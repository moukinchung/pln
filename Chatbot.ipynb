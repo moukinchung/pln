{
  "nbformat": 4,
  "nbformat_minor": 0,
  "metadata": {
    "colab": {
      "name": "Proj2.ipynb",
      "provenance": [],
      "collapsed_sections": []
    },
    "kernelspec": {
      "name": "python3",
      "display_name": "Python 3"
    }
  },
  "cells": [
    {
      "cell_type": "markdown",
      "metadata": {
        "id": "pUzCJWFHc3WB"
      },
      "source": [
        "#CHATBOT DE INFORMAÇÕES DE DOCENTES DA UFABC"
      ]
    },
    {
      "cell_type": "markdown",
      "metadata": {
        "id": "6VygEL0IcxQt"
      },
      "source": [
        "O Chatbot proposto aqui é de responder dúvidas comuns como a especialidade, a formação ou os meios de contato de docentes da UFABC.\n",
        "Os dados utilizados são retirados a partir da página da universidade, na qual é listado todos (ou a grande maioria) dos docentes que fazem parte dela: https://www.ufabc.edu.br/ensino/docentes/."
      ]
    },
    {
      "cell_type": "markdown",
      "metadata": {
        "id": "fDz8CNo-c6-c"
      },
      "source": [
        "#Importação das bibliotecas necessárias"
      ]
    },
    {
      "cell_type": "code",
      "metadata": {
        "id": "-eH0Xy-AtFB-"
      },
      "source": [
        "import bs4 as bs\n",
        "import urllib.request\n",
        "import re\n",
        "import nltk\n",
        "import numpy as np\n",
        "import random\n",
        "import string\n",
        "from sklearn.metrics.pairwise import cosine_similarity\n",
        "from sklearn.feature_extraction.text import TfidfVectorizer\n",
        "\n",
        "nltk.download('punkt')\n",
        "!pip install spacy --upgrade\n",
        "import spacy\n",
        "!python3 -m spacy download pt"
      ],
      "execution_count": null,
      "outputs": []
    },
    {
      "cell_type": "markdown",
      "metadata": {
        "id": "utWosUfuc8Es"
      },
      "source": [
        "#Funções utilizadas"
      ]
    },
    {
      "cell_type": "markdown",
      "metadata": {
        "id": "CER-NJLBdWmu"
      },
      "source": [
        "Função que irá consultar na página de docentes da UFABC e retornar em texto o conteúdo encontrado caso exista essa pessoa.\n",
        "\n",
        "-O nome digitado deve ser escrito sem acentos e em caso de 'ç', é preciso utilizar 'c'"
      ]
    },
    {
      "cell_type": "code",
      "metadata": {
        "id": "nDj8YkoGVrfS"
      },
      "source": [
        "def encontrar_docente():\n",
        "    nome = input('Por favor, digite o nome completo do docente desejado (desconsiderar acentos e troque \"ç\" por \"c\"): ')\n",
        "    nome = nome.lower()\n",
        "    nome = nome.replace(' ','-')\n",
        "\n",
        "    try:\n",
        "        dados = urllib.request.urlopen('https://www.ufabc.edu.br/ensino/docentes/'+nome)\n",
        "        dados = dados.read()\n",
        "        dados_html = bs.BeautifulSoup(dados, 'lxml')\n",
        "        dados_html = dados_html.find_all(class_=\"item-page item-page\")\n",
        "\n",
        "        conteudo=''\n",
        "        for p in dados_html:\n",
        "            conteudo += p.text\n",
        "\n",
        "        conteudo = conteudo.lower()\n",
        "        conteudo = re.sub(r\"\\s{2,}\",' ',conteudo)\n",
        "        conteudo = re.sub(r\"\\:\",'',conteudo)\n",
        "        conteudo = re.sub(r\"\\n\",' ',conteudo)\n",
        "        return conteudo\n",
        "    except:\n",
        "        return (\"Docente não encontrado\")"
      ],
      "execution_count": null,
      "outputs": []
    },
    {
      "cell_type": "markdown",
      "metadata": {
        "id": "GrW8mxYedVRU"
      },
      "source": [
        "Função que irá processar o texto, usando a lemmatização, tanto da pergunta do usuário como do que for encontrado na página."
      ]
    },
    {
      "cell_type": "code",
      "metadata": {
        "id": "VgyshefWQzsA"
      },
      "source": [
        "def preprocessamento(texto):\n",
        "    pln = spacy.load('pt')\n",
        "    stop_words = spacy.lang.pt.stop_words.STOP_WORDS\n",
        "    # espacos em branco\n",
        "    texto = re.sub(r\" +\", ' ', texto)\n",
        "\n",
        "    documento = pln(texto)\n",
        "    lista = []\n",
        "    for token in documento:\n",
        "        lista.append(token.lemma_)\n",
        "\n",
        "    lista = [palavra for palavra in lista if palavra not in stop_words and palavra not in string.punctuation]\n",
        "    lista = ' '.join([str(elemento) for elemento in lista if not elemento.isdigit()])\n",
        "\n",
        "    return lista"
      ],
      "execution_count": null,
      "outputs": []
    },
    {
      "cell_type": "markdown",
      "metadata": {
        "id": "HcjGNtsDdV5G"
      },
      "source": [
        "Função que irá analizar a melhor resposta possivel dado a pergunta, baseado na medida TF-IDF."
      ]
    },
    {
      "cell_type": "code",
      "metadata": {
        "id": "un7vZrRqMpiJ"
      },
      "source": [
        "def responder(texto_usuario,lista_sentencas):\n",
        "    resposta_chatbot = ''\n",
        "    lista_sentencas_preprocessada.append(texto_usuario)\n",
        "\n",
        "    tfidf = TfidfVectorizer()\n",
        "    palavras_vetorizadas = tfidf.fit_transform(lista_sentencas_preprocessada)\n",
        "\n",
        "    similaridade = cosine_similarity(palavras_vetorizadas[-1], palavras_vetorizadas)\n",
        "\n",
        "    indice_sentenca = similaridade.argsort()[0][-2]\n",
        "    vetor_similar = similaridade.flatten()\n",
        "    vetor_similar.sort()\n",
        "    vetor_encontrado = vetor_similar[-2]\n",
        "\n",
        "    if (vetor_encontrado == 0):\n",
        "        resposta_chatbot = resposta_chatbot + 'Desculpe, mas não entendi!'\n",
        "        return resposta_chatbot\n",
        "    else:\n",
        "        resposta_chatbot = resposta_chatbot + lista_sentencas[indice_sentenca]\n",
        "        return resposta_chatbot"
      ],
      "execution_count": null,
      "outputs": []
    },
    {
      "cell_type": "markdown",
      "metadata": {
        "id": "4zk9TEMedXMt"
      },
      "source": [
        "Função que irá tokenizar o conteudo da página da web e fazer o processamento desses tokens"
      ]
    },
    {
      "cell_type": "code",
      "metadata": {
        "id": "fy0CL7UqZUcr"
      },
      "source": [
        "def docprocess(conteudo):\n",
        "    lista_sentencas = nltk.sent_tokenize(conteudo)\n",
        "    for i in range(len(lista_sentencas)):\n",
        "        lista_sentencas_preprocessada.append(preprocessamento(lista_sentencas[i]))\n",
        "    return lista_sentencas"
      ],
      "execution_count": null,
      "outputs": []
    },
    {
      "cell_type": "markdown",
      "metadata": {
        "id": "Y5SX8eckMeKA"
      },
      "source": [
        "#Dialogo com o bot"
      ]
    },
    {
      "cell_type": "markdown",
      "metadata": {
        "id": "ZaYaxI6TdYMf"
      },
      "source": [
        "Código principal do chatbot"
      ]
    },
    {
      "cell_type": "code",
      "metadata": {
        "id": "8HEVh8eXiagW",
        "colab": {
          "base_uri": "https://localhost:8080/"
        },
        "outputId": "9ce5cfe2-42ff-4b1c-b469-3707470be5bf"
      },
      "source": [
        "print('Olá, sou um chatbot e vou responder perguntas sobre os docentes da UFABC')\n",
        "continuar = True\n",
        "while (continuar == True):\n",
        "    doc = encontrar_docente()\n",
        "\n",
        "    if(doc!=\"Docente não encontrado\"):\n",
        "        lista_sentencas_preprocessada = []\n",
        "        lista_sentencas = docprocess(doc)\n",
        "        print(\"-------------------------------\")\n",
        "        print(\"Texto encontrado:\")\n",
        "        print(doc)\n",
        "        print(\"-------------------------------\")\n",
        "        mesmo_doc = True\n",
        "\n",
        "        while(mesmo_doc):\n",
        "            print(\"O que deseja saber?\")\n",
        "            texto_usuario = input()\n",
        "            texto_usuario = texto_usuario.lower()\n",
        "\n",
        "            if (texto_usuario != 'encerrar' and texto_usuario != 'trocar docente'):\n",
        "                print('Chatbot: ')\n",
        "                print(responder(preprocessamento(texto_usuario),lista_sentencas))\n",
        "                lista_sentencas_preprocessada.remove(preprocessamento(texto_usuario))\n",
        "\n",
        "            elif (texto_usuario == 'trocar docente'):\n",
        "                mesmo_doc = False\n",
        "            \n",
        "            else:\n",
        "                continuar = False\n",
        "                mesmo_doc = False\n",
        "                print('Chatbot: Até breve!')\n",
        "\n",
        "    else:\n",
        "        print(doc)"
      ],
      "execution_count": null,
      "outputs": [
        {
          "output_type": "stream",
          "text": [
            "Olá, sou um chatbot e vou responder perguntas sobre os docentes da UFABC\n",
            "Por favor, digite o nome completo do docente desejado (desconsiderar acentos e troque \"ç\" por \"c\"): Francisco de assis zampirolli\n",
            "-------------------------------\n",
            "Texto encontrado:\n",
            " francisco de assis zampirolli área visão computacional; engenharia de software. possui graduação em matemática pela universidade federal do espírito santo (1992), mestrado em matemática aplicada pela universidade de são paulo (1997) e doutorado em engenharia elétrica pela universidade estadual de campinas (2003). tem experiência na área de ciência da computação, com ênfase em visão computacional (com aplicações em bioinformática, robótica, sensoriamento remoto, linhas de produção, etc) e engenharia de software (em padrões de software e geração automática de modelos e código). página pessoal contatos centro centro de matemática computação e cognição (cmcc) sala 819-b - bloco b - santo andré telefone +55 11 4996-0078 e-mail fzampirolli@ufabc.edu.br mostrar currículo lattes \n",
            "-------------------------------\n",
            "O que deseja saber?\n",
            "qual a sua graduação?\n",
            "Chatbot: \n",
            "possui graduação em matemática pela universidade federal do espírito santo (1992), mestrado em matemática aplicada pela universidade de são paulo (1997) e doutorado em engenharia elétrica pela universidade estadual de campinas (2003).\n",
            "O que deseja saber?\n",
            "qual a sua experiência?\n",
            "Chatbot: \n",
            "tem experiência na área de ciência da computação, com ênfase em visão computacional (com aplicações em bioinformática, robótica, sensoriamento remoto, linhas de produção, etc) e engenharia de software (em padrões de software e geração automática de modelos e código).\n",
            "O que deseja saber?\n",
            "trocar docente\n",
            "Por favor, digite o nome completo do docente desejado (desconsiderar acentos e troque \"ç\" por \"c\"): Fulano silva\n",
            "Docente não encontrado\n",
            "Por favor, digite o nome completo do docente desejado (desconsiderar acentos e troque \"ç\" por \"c\"): gordana manic\n",
            "-------------------------------\n",
            "Texto encontrado:\n",
            " gordana manic área ciência da computação professora adjunta, nível ii. possui graduação em matemática aplicada pela universidade de novi sad-sérvia (1996), mestrado em ciências da computação pela universidade de são paulo (2001), doutorado em ciências da computação pela universidade de são paulo (2006) é pós-doutorado em ciências da computação pela universidade estadual de campinas (2007). tem experiência na área de ciência da computação, com ênfase em teoria da computação. suas pesquisas concentram-se nas áreas de otimização combinatória. atuando principalmente nos seguintes temas algoritmos de aproximação, combinatória poliédrica, jogos combinatórios em grafos. recebeu prêmio capes de tese na área do conhecimento ciência da computação, edição do ano de 2007 (prêmio da coordenação de aperfeiçoamento de pessoal de nível superior do ministério da educação - capes/mec). contatos centro centro de matemática computação e cognição (cmcc) sala 1032-b - bloco b - santo andré telefone +55 11 4996-0181 e-mail manic.gordana@ufabc.edu.br mostrar currículo lattes \n",
            "-------------------------------\n",
            "O que deseja saber?\n",
            "graduação feita\n",
            "Chatbot: \n",
            "possui graduação em matemática aplicada pela universidade de novi sad-sérvia (1996), mestrado em ciências da computação pela universidade de são paulo (2001), doutorado em ciências da computação pela universidade de são paulo (2006) é pós-doutorado em ciências da computação pela universidade estadual de campinas (2007).\n",
            "O que deseja saber?\n",
            "quais os seus contatos\n",
            "Chatbot: \n",
            "contatos centro centro de matemática computação e cognição (cmcc) sala 1032-b - bloco b - santo andré telefone +55 11 4996-0181 e-mail manic.gordana@ufabc.edu.br mostrar currículo lattes\n",
            "O que deseja saber?\n",
            "trocar docente\n",
            "Por favor, digite o nome completo do docente desejado (desconsiderar acentos e troque \"ç\" por \"c\"): alexandre donizeti alves\n",
            "-------------------------------\n",
            "Texto encontrado:\n",
            " alexandre donizeti alves área ciência da computação possui graduação em ciência da computação pela universidade josé do rosário vellano - unifenas (1997), mestrado em ciência da computação pela universidade de são paulo - icmc-usp (2000) e doutorado em computação aplicada pelo instituto nacional de pesquisas espaciais - inpe (2014). recebeu menção honrosa no prêmio capes de tese 2015 na área interdisciplinar. trabalhou como bolsista de pesquisa ct&i em um projeto realizado no instituto tecnológico de aeronáutica - ita em parceria com o centro de pesquisas e desenvolvimento da petrobras - cenpes. recentemente, foi bolsista de pós-doutorado no instituto tecnológico de aeronáutica - ita. atualmente, trabalha como professor visitante no curso de ciência da computação na universidade federal do abc (ufabc). tem experiência na área de ciência da computação, especialmente em teoria da computação, linguagens formais e autômatos e computação gráfica, e interesse nos seguintes tópicos linguagem de domínio específico; coleta, extração e indexação de dados web; análise e visualização de redes sociais científicas. contatos centro centro de matemática computação e cognição (cmcc) curso(s) sala 523-2 - bloco a telefone 4996 8319 e-mail alexandre.donizeti@ufabc.edu.br mostrar currículo lattes \n",
            "-------------------------------\n",
            "O que deseja saber?\n",
            "qual a graduação?\n",
            "Chatbot: \n",
            " alexandre donizeti alves área ciência da computação possui graduação em ciência da computação pela universidade josé do rosário vellano - unifenas (1997), mestrado em ciência da computação pela universidade de são paulo - icmc-usp (2000) e doutorado em computação aplicada pelo instituto nacional de pesquisas espaciais - inpe (2014).\n",
            "O que deseja saber?\n",
            "contatos\n",
            "Chatbot: \n",
            "contatos centro centro de matemática computação e cognição (cmcc) curso(s) sala 523-2 - bloco a telefone 4996 8319 e-mail alexandre.donizeti@ufabc.edu.br mostrar currículo lattes\n",
            "O que deseja saber?\n",
            "qual a sua experiência\n",
            "Chatbot: \n",
            "tem experiência na área de ciência da computação, especialmente em teoria da computação, linguagens formais e autômatos e computação gráfica, e interesse nos seguintes tópicos linguagem de domínio específico; coleta, extração e indexação de dados web; análise e visualização de redes sociais científicas.\n",
            "O que deseja saber?\n",
            "encerrar\n",
            "Chatbot: Até breve!\n"
          ],
          "name": "stdout"
        }
      ]
    },
    {
      "cell_type": "markdown",
      "metadata": {
        "id": "bm9ABVJJdekW"
      },
      "source": [
        "Nota-se que pode haver problemas dependendo de como está redigido o perfil de cada docente no site, pois não há uma padronização nessa parte."
      ]
    }
  ]
}