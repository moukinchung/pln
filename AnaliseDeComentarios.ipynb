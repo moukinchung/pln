{
  "nbformat": 4,
  "nbformat_minor": 0,
  "metadata": {
    "colab": {
      "name": "PLN-Proj3.ipynb",
      "provenance": [],
      "collapsed_sections": []
    },
    "kernelspec": {
      "name": "python3",
      "display_name": "Python 3"
    }
  },
  "cells": [
    {
      "cell_type": "markdown",
      "metadata": {
        "id": "m5A2l4hBF9wS"
      },
      "source": [
        "#Análise de Sentimentos e Modelagem de Tópicos de avaliações da Lojas Americanas"
      ]
    },
    {
      "cell_type": "markdown",
      "metadata": {
        "id": "PW9mbhh0SF3X"
      },
      "source": [
        "A base de dados foi obtida através desse link: https://github.com/b2wdigital/b2w-reviews01\r\n",
        "\r\n",
        "Ela contém mais de 130 mil avaliações de clientes coletadas do site de comércio eletrônico da Americanas.com entre janeiro e maio de 2018.\r\n",
        "Com base nessas avaliações, espera-se que seja possível fazer uma análise de sentimentos e criar um classificador automatico. Também será feito uma modelagem de tópicos em cima desses dados."
      ]
    },
    {
      "cell_type": "markdown",
      "metadata": {
        "id": "eeqkMZOkG7wo"
      },
      "source": [
        "#**Leitura e Pré-Processamento dos dados**"
      ]
    },
    {
      "cell_type": "markdown",
      "metadata": {
        "id": "PW9H-rGNVFEO"
      },
      "source": [
        "**Importação dos pacotes necessários**"
      ]
    },
    {
      "cell_type": "code",
      "metadata": {
        "id": "x_o44-7MncTo"
      },
      "source": [
        "!pip install nltk\n",
        "import pandas as pd\n",
        "import spacy\n",
        "import seaborn as sns\n",
        "import nltk\n",
        "import re\n",
        "from sklearn.model_selection import train_test_split\n",
        "from nltk.corpus import stopwords\n",
        "from nltk.stem import RSLPStemmer\n",
        "from nltk import word_tokenize\n",
        "nltk.download('stopwords')\n",
        "nltk.download('punkt')\n",
        "nltk.download('wordnet')\n",
        "nltk.download('rslp')\n",
        "\n",
        "!python -m spacy download pt\n",
        "from spacy.lang.pt.stop_words import STOP_WORDS"
      ],
      "execution_count": null,
      "outputs": []
    },
    {
      "cell_type": "markdown",
      "metadata": {
        "id": "RXHDqc1bYjKU"
      },
      "source": [
        "**Leitura da base de dados**"
      ]
    },
    {
      "cell_type": "code",
      "metadata": {
        "id": "OXMb-jg4VEex",
        "colab": {
          "base_uri": "https://localhost:8080/"
        },
        "outputId": "837e7745-29a3-41c2-c805-93b8302a9c72"
      },
      "source": [
        "link = \"https://drive.google.com/u/1/uc?id=1J-EDzR3bRg5-P-O9l0I5Wjk_5WdeZmOG&export=download\" #Base de dados CSV salvo no Google Drive\n",
        "base = pd.read_csv(link, sep=\";\")\n",
        "base = base[[\"product_name\",\"site_category_lv1\",\"site_category_lv2\",\"overall_rating\",\"recommend_to_a_friend\",\"review_text\"]]\n",
        "base = base.query(\"recommend_to_a_friend == 'Yes' or recommend_to_a_friend == 'No'\")\n",
        "print(base.sample(10))"
      ],
      "execution_count": null,
      "outputs": [
        {
          "output_type": "stream",
          "text": [
            "                                             product_name  ...                                        review_text\n",
            "56765   Espátula e Raspador de bolo e Massas 15cm (Ino...  ...  Ajuda muito na preparação de pães e massas em ...\n",
            "101580  Confeitaria Escalafobética: Sobremesas Explica...  ...  Lindo, fofo, maravilhoso, didático, fotografia...\n",
            "108580                     Livro - O Sucesso Está em Você  ...  otimo livro, entrega antes do prazo, gostei mu...\n",
            "107846  Toner Samsung D111 D111s Mlt-D111s M2020 M2070...  ...  O produto entrega o que promete, 5% de uma fol...\n",
            "21677   Som Portátil Philco PB119L CD Player Rádio AM/...  ...  Por esse preço se compra algo melhor, não indi...\n",
            "27520   Compressor de Ar Naveg com 3 Bicos Adaptadores...  ...  eu recomendo aos meus amigos e muito bom esse ...\n",
            "53348    Grill e Sanduicheira Mondial Mac Grill S-11 Inox  ...  Gostei muito. Funciona certinho. Pão fica tost...\n",
            "7791    Smartphone Motorola Moto G 5S Dual Chip Androi...  ...  Gostei muito do smartphone , e chegou super rá...\n",
            "9160                           Mini Kart Infantil à Pedal  ...  Vocês avisam que é até 60kg, mais meu filho te...\n",
            "16928            Vassoura Esfregão Spray com Reservatório  ...  Ele é prático, limpa bem e ao mesmo tempo pass...\n",
            "\n",
            "[10 rows x 6 columns]\n"
          ],
          "name": "stdout"
        },
        {
          "output_type": "stream",
          "text": [
            "/usr/local/lib/python3.6/dist-packages/IPython/core/interactiveshell.py:2718: DtypeWarning: Columns (2) have mixed types.Specify dtype option on import or set low_memory=False.\n",
            "  interactivity=interactivity, compiler=compiler, result=result)\n"
          ],
          "name": "stderr"
        }
      ]
    },
    {
      "cell_type": "markdown",
      "metadata": {
        "id": "05WLfhQgIQRD"
      },
      "source": [
        "**Pré-processamento dos dados**\n",
        "\n",
        "Será passado para minúsculo todas as letras dos textos, assim como da remoção de letras que se repetem três vezes ou mais, como no caso da avaliação conter palavras escritas como 'boooommm', sendo substituida por apenas 'bom', também serão removidos os caracteres especiais e por fim, será feito a tokenização e a remoção das stopwords da lingua portuguesa.\n"
      ]
    },
    {
      "cell_type": "code",
      "metadata": {
        "id": "bXXoMqIjkLoH"
      },
      "source": [
        "review_text_trat = []\n",
        "stop_words = stopwords.words('portuguese')\n",
        "\n",
        "for aval in base[\"review_text\"]:\n",
        "    aval = aval.lower()\n",
        "    aval = re.sub(r'[^\\w\\s]','',aval)\n",
        "    aval = re.sub(r'(.)\\1{2,}', r'\\1',aval)  #Remoção de letras que se repetem 3x ou mais\n",
        "    aval = re.sub(r'/[^a-zA-Z]/g',\"\",aval)  #Remoção de caracteres especiais\n",
        "    aval = nltk.word_tokenize(aval)  #tokenização\n",
        "    sem_stop = []\n",
        "    #remoção das stopwords\n",
        "    for pal in aval:\n",
        "        if pal not in stop_words:\n",
        "            sem_stop.append(pal)\n",
        "    review_text_trat.append(sem_stop)"
      ],
      "execution_count": null,
      "outputs": []
    },
    {
      "cell_type": "markdown",
      "metadata": {
        "id": "mggWU4K88XeN"
      },
      "source": [
        "**Realizando o steamming dos comentários.**"
      ]
    },
    {
      "cell_type": "code",
      "metadata": {
        "id": "AUcmkAun2Pjn",
        "colab": {
          "base_uri": "https://localhost:8080/"
        },
        "outputId": "310f9cfe-c9fd-406d-e8ee-af3eb45a8c5f"
      },
      "source": [
        "stematizer = RSLPStemmer()\n",
        "review_text_stem = []\n",
        "\n",
        "for aval in review_text_trat:\n",
        "    st = [stematizer.stem(word) for word in aval]\n",
        "    review_text_stem.append(st)\n",
        "\n",
        "print(\"Algumas avaliações com o steamming: \")\n",
        "for x in range(100,110):\n",
        "    print(review_text_stem[x])\n",
        "\n",
        "base[\"review_text\"]=review_text_stem"
      ],
      "execution_count": null,
      "outputs": [
        {
          "output_type": "stream",
          "text": [
            "Algumas avaliações com o steamming: \n",
            "['compr', 'pen', 'driv', 'imag', 'condiz', 'produt', 'vei', 'outr', 'model']\n",
            "['aind', 'receb', 'ped', 'muit', 'irrespons', 'loj', 'coloc', 'entreg', 'aind', 'nao', 'receb', 'nad']\n",
            "['rop', 'cumpr', 'promet', 'dev', 'dar', 'muit', 'atenç', 'uso', 'bat', 'prolong', 'vid', 'útil', 'mesm']\n",
            "['excel', 'produt', 'esquent', 'dá', 'format', 'desej', 'ador', 'recom']\n",
            "['básic', 'gost', 'menos', 'apar', 'propagand', 'retrat', 'produt']\n",
            "['bom', 'produt', 'feliz', 'seman', '2018', 'chei', 'am', 'alegr', 'grand', 'realiz']\n",
            "['ador', 'recom', 'tod', 'perfeit', 'proteç', 'mot', 'detalh', 'produt', 'cheg', 'ant', 'praz', 'perfeit', 'proteg', 'continu', 'imperme', 'sup', 'recom', 'ha', 'detalh', 'marid', 'qu', 'compr', 'pra']\n",
            "['bom', 'produtogel', 'med', 'certafácil', 'ental']\n",
            "['câm', 'wif', 'anunci', 'tod', 'acessóri', 'const', 'descr', 'fot', 'vêm', 'câm']\n",
            "['celul', 'fant', 'rápid', 'muit', 'capac', 'lev', 'tir', 'fot', 'alt', 'qual', 'fácil', 'us']\n"
          ],
          "name": "stdout"
        }
      ]
    },
    {
      "cell_type": "markdown",
      "metadata": {
        "id": "rkoLbcTWMJR5"
      },
      "source": [
        "#**Análise de Sentimentos**"
      ]
    },
    {
      "cell_type": "markdown",
      "metadata": {
        "id": "gm-MAfU2XauP"
      },
      "source": [
        "Para análisar se uma avaliação é positiva ou não, será utilizado os dados contidos na coluna \"recommend_to_a_friend\", pois se a avaliação for positiva ou negativa, pode-se deduzir que o autor dela irá recomendar ou não o produto à alguem respectivamente.\n",
        "\n",
        "Dessa forma, iremos separar essas duas colunas em duas bases, uma para treinar o algoritmo, e a outra pra testar a acuracia do mesmo."
      ]
    },
    {
      "cell_type": "code",
      "metadata": {
        "id": "Gf--zipUAm7j"
      },
      "source": [
        "analise = base[[\"recommend_to_a_friend\",\"review_text\"]]\n",
        "\n",
        "treino, teste = train_test_split(analise) #Separação em duas bases de dados\n",
        "\n",
        "treino = treino.values.tolist()\n",
        "teste = teste.values.tolist()"
      ],
      "execution_count": null,
      "outputs": []
    },
    {
      "cell_type": "markdown",
      "metadata": {
        "id": "jxDz92XwG67H"
      },
      "source": [
        "Por questões de implementação, os tokens das duas bases serão transformados em texto corrido novamente"
      ]
    },
    {
      "cell_type": "code",
      "metadata": {
        "id": "B8VNFHRNfqqD"
      },
      "source": [
        "#BASE DE TREINO\n",
        "frases_treino = []\n",
        "classificacao_treino = []\n",
        "for linha in treino:\n",
        "    frase = \"\"\n",
        "    for palavra in linha[1]:\n",
        "        frase = frase + \" \" + palavra\n",
        "    frases_treino.append(frase)\n",
        "    classificacao_treino.append(linha[0])"
      ],
      "execution_count": null,
      "outputs": []
    },
    {
      "cell_type": "code",
      "metadata": {
        "id": "QAI1qaQykijj"
      },
      "source": [
        "#BASE DE TESTE\n",
        "frases_teste = []\n",
        "classificacao_teste = []\n",
        "for linha in teste:\n",
        "    frase = \"\"\n",
        "    for palavra in linha[1]:\n",
        "        frase = frase + \" \" + palavra\n",
        "    frases_teste.append(frase)\n",
        "    classificacao_teste.append(linha[0])\n"
      ],
      "execution_count": null,
      "outputs": []
    },
    {
      "cell_type": "markdown",
      "metadata": {
        "id": "yA3if89THwqW"
      },
      "source": [
        "**Construção da matriz termo-documento com o CountVectorizer**"
      ]
    },
    {
      "cell_type": "code",
      "metadata": {
        "colab": {
          "base_uri": "https://localhost:8080/"
        },
        "id": "nYtl_1vkfRDy",
        "outputId": "5befe41f-c90c-4adb-b20a-eb5c22018b7d"
      },
      "source": [
        "from sklearn.feature_extraction.text import CountVectorizer\n",
        "counter_vectorizer = CountVectorizer(min_df=15)\n",
        "\n",
        "counts = counter_vectorizer.fit_transform(frases_treino)\n",
        "counts"
      ],
      "execution_count": null,
      "outputs": [
        {
          "output_type": "execute_result",
          "data": {
            "text/plain": [
              "<99266x3705 sparse matrix of type '<class 'numpy.int64'>'\n",
              "\twith 1189559 stored elements in Compressed Sparse Row format>"
            ]
          },
          "metadata": {
            "tags": []
          },
          "execution_count": 8
        }
      ]
    },
    {
      "cell_type": "markdown",
      "metadata": {
        "id": "FV9d5OMqH55_"
      },
      "source": [
        "**Construção da matriz termo-documento com o método TF-IDF**"
      ]
    },
    {
      "cell_type": "code",
      "metadata": {
        "colab": {
          "base_uri": "https://localhost:8080/"
        },
        "id": "x8hUqhoMhup9",
        "outputId": "0fdc0fb2-020f-4d7e-b816-6c9836135283"
      },
      "source": [
        "from sklearn.feature_extraction.text import TfidfVectorizer\n",
        "\n",
        "tfidf_vectorizer = TfidfVectorizer(min_df=15)\n",
        "\n",
        "tfidf = tfidf_vectorizer.fit_transform(frases_treino)\n",
        "tfidf"
      ],
      "execution_count": null,
      "outputs": [
        {
          "output_type": "execute_result",
          "data": {
            "text/plain": [
              "<99266x3705 sparse matrix of type '<class 'numpy.float64'>'\n",
              "\twith 1189559 stored elements in Compressed Sparse Row format>"
            ]
          },
          "metadata": {
            "tags": []
          },
          "execution_count": 9
        }
      ]
    },
    {
      "cell_type": "markdown",
      "metadata": {
        "id": "A7Q0CWN_KvUM"
      },
      "source": [
        "**Comparação gráfica entre os dois métodos**"
      ]
    },
    {
      "cell_type": "code",
      "metadata": {
        "colab": {
          "base_uri": "https://localhost:8080/",
          "height": 282
        },
        "id": "RB9_TFDPh_33",
        "outputId": "a748618e-9908-474d-f831-bd74004e06d5"
      },
      "source": [
        "import matplotlib.pyplot as plt\n",
        "\n",
        "plt.plot(sorted(counts.data),label=\"Counts\");\n",
        "plt.plot(sorted(tfidf.data),label=\"TF-IDF\");\n",
        "plt.legend();"
      ],
      "execution_count": null,
      "outputs": [
        {
          "output_type": "display_data",
          "data": {
            "image/png": "[encoded data removed]",
            "text/plain": [
              "<Figure size 432x288 with 1 Axes>"
            ]
          },
          "metadata": {
            "tags": [],
            "needs_background": "light"
          }
        }
      ]
    },
    {
      "cell_type": "markdown",
      "metadata": {
        "id": "QHkPrQHoK4Bn"
      },
      "source": [
        "**Treinamento dos classificadores com o algoritmo de Floresta Aleatória**-"
      ]
    },
    {
      "cell_type": "code",
      "metadata": {
        "colab": {
          "base_uri": "https://localhost:8080/"
        },
        "id": "J-0GztAQiIFk",
        "outputId": "513046f3-b5d1-4c49-b859-4043cb363b0b"
      },
      "source": [
        "from sklearn.ensemble import RandomForestClassifier\n",
        "\n",
        "clf_counts = RandomForestClassifier(n_estimators=100, random_state=15)\n",
        "clf_counts.fit(counts, classificacao_treino)"
      ],
      "execution_count": null,
      "outputs": [
        {
          "output_type": "execute_result",
          "data": {
            "text/plain": [
              "RandomForestClassifier(bootstrap=True, ccp_alpha=0.0, class_weight=None,\n",
              "                       criterion='gini', max_depth=None, max_features='auto',\n",
              "                       max_leaf_nodes=None, max_samples=None,\n",
              "                       min_impurity_decrease=0.0, min_impurity_split=None,\n",
              "                       min_samples_leaf=1, min_samples_split=2,\n",
              "                       min_weight_fraction_leaf=0.0, n_estimators=100,\n",
              "                       n_jobs=None, oob_score=False, random_state=15, verbose=0,\n",
              "                       warm_start=False)"
            ]
          },
          "metadata": {
            "tags": []
          },
          "execution_count": 11
        }
      ]
    },
    {
      "cell_type": "code",
      "metadata": {
        "colab": {
          "base_uri": "https://localhost:8080/"
        },
        "id": "dusYM2dziIro",
        "outputId": "707c7e8c-fb57-453c-c64d-1552e9adc8f6"
      },
      "source": [
        "clf_tfidf = RandomForestClassifier(n_estimators=100, random_state=15)\n",
        "clf_tfidf.fit(tfidf, classificacao_treino)"
      ],
      "execution_count": null,
      "outputs": [
        {
          "output_type": "execute_result",
          "data": {
            "text/plain": [
              "RandomForestClassifier(bootstrap=True, ccp_alpha=0.0, class_weight=None,\n",
              "                       criterion='gini', max_depth=None, max_features='auto',\n",
              "                       max_leaf_nodes=None, max_samples=None,\n",
              "                       min_impurity_decrease=0.0, min_impurity_split=None,\n",
              "                       min_samples_leaf=1, min_samples_split=2,\n",
              "                       min_weight_fraction_leaf=0.0, n_estimators=100,\n",
              "                       n_jobs=None, oob_score=False, random_state=15, verbose=0,\n",
              "                       warm_start=False)"
            ]
          },
          "metadata": {
            "tags": []
          },
          "execution_count": 12
        }
      ]
    },
    {
      "cell_type": "markdown",
      "metadata": {
        "id": "0U2cLBvcMYuR"
      },
      "source": [
        "**Os 15 termos mais importantes segundo a classificação feita**"
      ]
    },
    {
      "cell_type": "code",
      "metadata": {
        "id": "zutihWfGjZG3"
      },
      "source": [
        "nwords = 15\n",
        "counts_importance_idx = clf_counts.feature_importances_.argsort()[-nwords:]\n",
        "tfidf_importance_idx = clf_tfidf.feature_importances_.argsort()[-nwords:]"
      ],
      "execution_count": null,
      "outputs": []
    },
    {
      "cell_type": "code",
      "metadata": {
        "colab": {
          "base_uri": "https://localhost:8080/",
          "height": 873
        },
        "id": "hY7DIc5yjee9",
        "outputId": "ee5e0e4d-2bf1-4f5c-af85-5874fad8924b"
      },
      "source": [
        "import numpy as np\n",
        "\n",
        "# variavel para ajustar os plots\n",
        "tree_indices = np.arange(0, nwords) + 0.5\n",
        "\n",
        "fig, (ax1, ax2) = plt.subplots(1, 2, figsize=(12, 12))\n",
        "ax1.barh(tree_indices,\n",
        "         clf_counts.feature_importances_[counts_importance_idx], height=0.7)\n",
        "ax1.set_yticklabels(np.array(counter_vectorizer.get_feature_names())[counts_importance_idx])\n",
        "ax1.set_yticks(tree_indices)\n",
        "ax1.set_ylim((0, nwords))\n",
        "ax1.set_title(\"Counts\")\n",
        "\n",
        "ax2.barh(tree_indices,\n",
        "         clf_tfidf.feature_importances_[tfidf_importance_idx], height=0.7)\n",
        "ax2.set_yticklabels(np.array(tfidf_vectorizer.get_feature_names())[tfidf_importance_idx])\n",
        "ax2.set_yticks(tree_indices)\n",
        "ax2.set_ylim((0, nwords))\n",
        "ax2.set_title(\"TF-IDF\")\n",
        "\n",
        "fig.tight_layout()\n",
        "plt.show()"
      ],
      "execution_count": null,
      "outputs": [
        {
          "output_type": "display_data",
          "data": {
            "image/png": "[encoded data removed]",
            "text/plain": [
              "<Figure size 864x864 with 2 Axes>"
            ]
          },
          "metadata": {
            "tags": [],
            "needs_background": "light"
          }
        }
      ]
    },
    {
      "cell_type": "markdown",
      "metadata": {
        "id": "jC8DowS_NtvH"
      },
      "source": [
        "Nota-se que as top-5 palavras consideradas serão \"recebi\", \"bom\", \"péssimo\", \"ótimo\" e \"excelente\""
      ]
    },
    {
      "cell_type": "markdown",
      "metadata": {
        "id": "tnxWrD32OKX1"
      },
      "source": [
        "**Palavras que só aparecem em um dos modelos**"
      ]
    },
    {
      "cell_type": "code",
      "metadata": {
        "id": "x0SD0x-Jjghi"
      },
      "source": [
        "counts_importance_terms = set(np.array(counter_vectorizer.get_feature_names())[counts_importance_idx])\n",
        "tfidf_importance_terms = set(np.array(tfidf_vectorizer.get_feature_names())[tfidf_importance_idx])"
      ],
      "execution_count": null,
      "outputs": []
    },
    {
      "cell_type": "code",
      "metadata": {
        "colab": {
          "base_uri": "https://localhost:8080/"
        },
        "id": "C66UR9IYjiS0",
        "outputId": "4232d202-479a-43ee-aedd-8cf1ee88f570"
      },
      "source": [
        "counts_importance_terms - tfidf_importance_terms"
      ],
      "execution_count": null,
      "outputs": [
        {
          "output_type": "execute_result",
          "data": {
            "text/plain": [
              "{'avali', 'ruim'}"
            ]
          },
          "metadata": {
            "tags": []
          },
          "execution_count": 21
        }
      ]
    },
    {
      "cell_type": "code",
      "metadata": {
        "colab": {
          "base_uri": "https://localhost:8080/"
        },
        "id": "w3_PdteVjiy_",
        "outputId": "6ffe2df8-1ab3-4f6e-8e67-e83ca0c96c6c"
      },
      "source": [
        "tfidf_importance_terms - counts_importance_terms"
      ],
      "execution_count": null,
      "outputs": [
        {
          "output_type": "execute_result",
          "data": {
            "text/plain": [
              "{'ant', 'bem'}"
            ]
          },
          "metadata": {
            "tags": []
          },
          "execution_count": 22
        }
      ]
    },
    {
      "cell_type": "markdown",
      "metadata": {
        "id": "jTSJ7Tt0OPyW"
      },
      "source": [
        "No método usando a contagem, temos as palavras únicas \"avaliação\" e \"ruim\". Já no método TF-IDF, temos \"bem\" e \"antes\""
      ]
    },
    {
      "cell_type": "markdown",
      "metadata": {
        "id": "ZXNKHYhaOf86"
      },
      "source": [
        "**Analise de desempenho dos classificadores**\n",
        "\n",
        "Será utilizado as palavras \"No\" para as avaliações negativas, e \"Yes\" para as positivas"
      ]
    },
    {
      "cell_type": "markdown",
      "metadata": {
        "id": "bFMpFiy1Oniy"
      },
      "source": [
        "**Classificador Count**"
      ]
    },
    {
      "cell_type": "code",
      "metadata": {
        "id": "Df5CWgYijmF7",
        "colab": {
          "base_uri": "https://localhost:8080/",
          "height": 432
        },
        "outputId": "0b3dd0c1-7cc7-49a3-eba8-cabdc35c8ae2"
      },
      "source": [
        "from sklearn.pipeline import Pipeline\n",
        "from sklearn.metrics import plot_confusion_matrix, classification_report\n",
        "\n",
        "pipeline_counts = Pipeline([\n",
        "    ('vect', counter_vectorizer),\n",
        "    ('clf', clf_counts)\n",
        "])\n",
        "\n",
        "plot_confusion_matrix(pipeline_counts, frases_teste, classificacao_teste,display_labels=['No','Yes'],cmap=plt.cm.Blues,normalize='true');\n",
        "print(classification_report(classificacao_teste, pipeline_counts.predict(frases_teste),zero_division=0))"
      ],
      "execution_count": null,
      "outputs": [
        {
          "output_type": "stream",
          "text": [
            "              precision    recall  f1-score   support\n",
            "\n",
            "          No       0.83      0.75      0.79      8970\n",
            "         Yes       0.91      0.94      0.93     24119\n",
            "\n",
            "    accuracy                           0.89     33089\n",
            "   macro avg       0.87      0.85      0.86     33089\n",
            "weighted avg       0.89      0.89      0.89     33089\n",
            "\n"
          ],
          "name": "stdout"
        },
        {
          "output_type": "display_data",
          "data": {
            "image/png": "[encoded data removed]",
            "text/plain": [
              "<Figure size 432x288 with 2 Axes>"
            ]
          },
          "metadata": {
            "tags": [],
            "needs_background": "light"
          }
        }
      ]
    },
    {
      "cell_type": "markdown",
      "metadata": {
        "id": "72m_2NpUO4lc"
      },
      "source": [
        "**Classificador TF-IDF**"
      ]
    },
    {
      "cell_type": "code",
      "metadata": {
        "colab": {
          "base_uri": "https://localhost:8080/",
          "height": 432
        },
        "id": "AwOCGl0Wjw47",
        "outputId": "0a7e0fda-382a-437d-c687-3fd936f5e210"
      },
      "source": [
        "pipeline_tfidf = Pipeline([\n",
        "    ('vect', tfidf_vectorizer),\n",
        "    ('clf', clf_tfidf)\n",
        "])\n",
        "\n",
        "plot_confusion_matrix(pipeline_tfidf, frases_teste, classificacao_teste,display_labels=['No','Yes'],cmap=plt.cm.Blues,normalize='true')\n",
        "print(classification_report(classificacao_teste, pipeline_tfidf.predict(frases_teste),zero_division=0))"
      ],
      "execution_count": null,
      "outputs": [
        {
          "output_type": "stream",
          "text": [
            "              precision    recall  f1-score   support\n",
            "\n",
            "          No       0.83      0.77      0.79      8970\n",
            "         Yes       0.92      0.94      0.93     24119\n",
            "\n",
            "    accuracy                           0.89     33089\n",
            "   macro avg       0.87      0.85      0.86     33089\n",
            "weighted avg       0.89      0.89      0.89     33089\n",
            "\n"
          ],
          "name": "stdout"
        },
        {
          "output_type": "display_data",
          "data": {
            "image/png": "[encoded data removed]",
            "text/plain": [
              "<Figure size 432x288 with 2 Axes>"
            ]
          },
          "metadata": {
            "tags": [],
            "needs_background": "light"
          }
        }
      ]
    },
    {
      "cell_type": "markdown",
      "metadata": {
        "id": "bKhiNSwpPDSy"
      },
      "source": [
        "Com base nas avaliações dos dados obtidos, nota-se que o método da TF-IDF obteve uma pequena vantagem, em que a predição para comentarios negativos teve um resultado melhor que a predição feita pela contagem."
      ]
    },
    {
      "cell_type": "markdown",
      "metadata": {
        "id": "763oN-OiQhpv"
      },
      "source": [
        "De forma geral, os dois classificadores tiveram resultados práticamente semelhantes, dessa forma, qualquer um dos dois podem ser utilizados para classificar automaticamente avaliações dessa natureza."
      ]
    },
    {
      "cell_type": "markdown",
      "metadata": {
        "id": "z2D5nmWpMJlH"
      },
      "source": [
        "#Modelagem de tópicos (18)\n"
      ]
    },
    {
      "cell_type": "markdown",
      "metadata": {
        "id": "EyfJVCyI3qYT"
      },
      "source": [
        "##Modelagem com LDA"
      ]
    },
    {
      "cell_type": "markdown",
      "metadata": {
        "id": "SUAURgm5xMKk"
      },
      "source": [
        "Importação das bibliotecas necessárias\r\n"
      ]
    },
    {
      "cell_type": "code",
      "metadata": {
        "id": "lm_SjdRqxoNT"
      },
      "source": [
        "!pip install gensim\n",
        "import pickle\n",
        "import gensim\n",
        "from collections import defaultdict\n",
        "from gensim import corpora\n",
        "!pip install pyLDAvis"
      ],
      "execution_count": null,
      "outputs": []
    },
    {
      "cell_type": "markdown",
      "metadata": {
        "id": "0VqQDRwuxh85"
      },
      "source": [
        "**Carregamento dos dados de avaliações já pré-tratadas anteriormente**"
      ]
    },
    {
      "cell_type": "code",
      "metadata": {
        "id": "TsojAOFVypsP"
      },
      "source": [
        "frequency = defaultdict(int)\n",
        "\n",
        "aval = base[\"review_text\"]"
      ],
      "execution_count": null,
      "outputs": []
    },
    {
      "cell_type": "markdown",
      "metadata": {
        "id": "Br3FocFJxpVi"
      },
      "source": [
        "Análise de frequencia dos tokens, onde será usados somente os tokens que aparecerem mais de uma vez na base de dados"
      ]
    },
    {
      "cell_type": "code",
      "metadata": {
        "id": "EAAG4ijsAhWp"
      },
      "source": [
        "for text in aval:\n",
        "    for token in text:\n",
        "        frequency[token] += 1\n",
        "\n",
        "aval = [ [token for token in av if frequency[token]>1] for av in aval]\n",
        "\n",
        "dictionary = corpora.Dictionary(aval)\n",
        "corpus = [dictionary.doc2bow(av) for av in aval]"
      ],
      "execution_count": null,
      "outputs": []
    },
    {
      "cell_type": "markdown",
      "metadata": {
        "id": "GI5kGgzj2WtY"
      },
      "source": [
        "Criação da sacola de palavras e do dicionario"
      ]
    },
    {
      "cell_type": "code",
      "metadata": {
        "id": "wrrp-W2b6b7k"
      },
      "source": [
        "pickle.dump(corpus, open('gensim_corpus_corpus.pkl', 'wb'))\n",
        "dictionary.save('dictionary.gensim')"
      ],
      "execution_count": null,
      "outputs": []
    },
    {
      "cell_type": "markdown",
      "metadata": {
        "id": "2_xvCtYB2dwy"
      },
      "source": [
        "Criação do modelo LDA com 4 tópicos-"
      ]
    },
    {
      "cell_type": "code",
      "metadata": {
        "id": "HJyU1eiK6mdr"
      },
      "source": [
        "lda_model = gensim.models.ldamodel.LdaModel(corpus, num_topics=4, id2word=dictionary, passes=20)\n",
        "lda_model.save('gensim_model.gensim')"
      ],
      "execution_count": null,
      "outputs": []
    },
    {
      "cell_type": "markdown",
      "metadata": {
        "id": "Uqe-g9H52jj3"
      },
      "source": [
        "Os 4 tópicos gerados"
      ]
    },
    {
      "cell_type": "code",
      "metadata": {
        "id": "Gjw3EOLw9TlA",
        "colab": {
          "base_uri": "https://localhost:8080/"
        },
        "outputId": "5eab2a2e-14af-4b46-c5dd-3be84397fd61"
      },
      "source": [
        "topics = lda_model.print_topics(num_words=10)\n",
        "for topic in topics:\n",
        "    print(topic)"
      ],
      "execution_count": null,
      "outputs": [
        {
          "output_type": "stream",
          "text": [
            "(0, '0.048*\"produt\" + 0.044*\"compr\" + 0.029*\"dia\" + 0.025*\"receb\" + 0.019*\"entreg\" + 0.016*\"americ\" + 0.015*\"aind\" + 0.012*\"loj\" + 0.009*\"ped\" + 0.009*\"sit\"')\n",
            "(1, '0.105*\"produt\" + 0.073*\"entreg\" + 0.054*\"praz\" + 0.053*\"cheg\" + 0.044*\"recom\" + 0.043*\"ant\" + 0.029*\"rápid\" + 0.029*\"bom\" + 0.027*\"qual\" + 0.023*\"ótim\"')\n",
            "(2, '0.011*\"fic\" + 0.010*\"compr\" + 0.010*\"ser\" + 0.008*\"outr\" + 0.008*\"pod\" + 0.007*\"vei\" + 0.007*\"pouc\" + 0.006*\"pra\" + 0.006*\"poi\" + 0.006*\"ach\"')\n",
            "(3, '0.050*\"produt\" + 0.045*\"bom\" + 0.030*\"ótim\" + 0.030*\"recom\" + 0.027*\"qual\" + 0.022*\"excel\" + 0.021*\"bem\" + 0.019*\"boa\" + 0.017*\"atend\" + 0.016*\"gost\"')\n"
          ],
          "name": "stdout"
        }
      ]
    },
    {
      "cell_type": "markdown",
      "metadata": {
        "id": "DAMPUI13J8l6"
      },
      "source": [
        "Avaliando o modelo"
      ]
    },
    {
      "cell_type": "code",
      "metadata": {
        "id": "JHVY0ZWHJ74a",
        "colab": {
          "base_uri": "https://localhost:8080/"
        },
        "outputId": "e1c76e11-3f8c-461e-8a58-3fae54b0e99f"
      },
      "source": [
        "print('\\nPerplexity:', lda_model.log_perplexity(corpus))\n",
        "\n",
        "from gensim.models import CoherenceModel\n",
        "\n",
        "coherence_score_lda = CoherenceModel(model=lda_model, texts=aval, dictionary=dictionary, coherence='c_v')\n",
        "coherence_score = coherence_score_lda.get_coherence()\n",
        "\n",
        "print('\\nCoherence Score:', coherence_score)"
      ],
      "execution_count": null,
      "outputs": [
        {
          "output_type": "stream",
          "text": [
            "\n",
            "Perplexity: -6.758544511920064\n",
            "\n",
            "Coherence Score: 0.5338291776862851\n"
          ],
          "name": "stdout"
        }
      ]
    },
    {
      "cell_type": "markdown",
      "metadata": {
        "id": "d_LXo0NXJmFG"
      },
      "source": [
        "Visualizando o modelo LDA"
      ]
    },
    {
      "cell_type": "code",
      "metadata": {
        "id": "5vDccdWBI_a2",
        "colab": {
          "base_uri": "https://localhost:8080/",
          "height": 861
        },
        "outputId": "11a17b3a-e7fb-4e8e-948f-7a2df15c60f3"
      },
      "source": [
        "gensim_dictionary = gensim.corpora.Dictionary.load('dictionary.gensim')\n",
        "gensim_corpus = pickle.load(open('gensim_corpus_corpus.pkl', 'rb'))\n",
        "lda_model = gensim.models.ldamodel.LdaModel.load('gensim_model.gensim')\n",
        "\n",
        "import pyLDAvis.gensim\n",
        "\n",
        "lda_visualization = pyLDAvis.gensim.prepare(lda_model, gensim_corpus, gensim_dictionary, sort_topics=False)\n",
        "pyLDAvis.display(lda_visualization)"
      ],
      "execution_count": null,
      "outputs": [
        {
          "output_type": "execute_result",
          "data": {
            "text/html": [
              "\n",
              "<link rel=\"stylesheet\" type=\"text/css\" href=\"https://cdn.rawgit.com/bmabey/pyLDAvis/files/ldavis.v1.0.0.css\">\n",
              "\n",
              "\n",
              "<div id=\"ldavis_el5031397718015406722661408913\"></div>\n",
              "<script type=\"text/javascript\">\n",
              "\n",
              "var ldavis_el5031397718015406722661408913_data = {\"mdsDat\": {\"x\": [0.2188134049547237, -0.2250073711448796, 0.21527629138624543, -0.20908232519608963], \"y\": [-0.18420282407243244, -0.1629114438839842, 0.1796245597338771, 0.16748970822253947], \"topics\": [1, 2, 3, 4], \"cluster\": [1, 1, 1, 1], \"Freq\": [29.0735774913104, 16.2910755503949, 34.053471697736306, 20.581875260558395]}, \"tinfo\": {\"Term\": [\"produt\", \"entreg\", \"praz\", \"cheg\", \"bom\", \"recom\", \"ant\", \"dia\", \"\\u00f3tim\", \"qual\", \"receb\", \"r\\u00e1pid\", \"excel\", \"sup\", \"bem\", \"americ\", \"compr\", \"expect\", \"bonit\", \"gost\", \"f\\u00e1cil\", \"boa\", \"perfeit\", \"lind\", \"aind\", \"cust\", \"loj\", \"dentr\", \"atend\", \"parab\\u00e9m\", \"dia\", \"receb\", \"ped\", \"avali\", \"pag\", \"contat\", \"envi\", \"fiz\", \"reclam\", \"not\", \"hoj\", \"aguard\", \"mand\", \"cancel\", \"poss\", \"m\\u00ea\", \"email\", \"parc\", \"devolv\", \"retorn\", \"atras\", \"ate\", \"respost\", \"devolu\\u00e7\", \"solicit\", \"fret\", \"ningu\\u00e9m\", \"correi\", \"fiscal\", \"respeit\", \"respond\", \"agor\", \"aind\", \"vou\", \"sit\", \"compr\", \"americ\", \"loj\", \"vend\", \"nad\", \"troc\", \"nao\", \"produt\", \"quer\", \"empr\", \"entreg\", \"poi\", \"cheg\", \"outr\", \"pra\", \"faz\", \"problem\", \"vei\", \"praz\", \"ant\", \"dentr\", \"parab\\u00e9m\", \"embal\", \"previst\", \"rap\", \"conform\", \"cond\", \"combin\", \"estipul\", \"agil\", \"sensac\", \"\\u00f1\", \"parab\", \"agrade\\u00e7\", \"pontual\", \"estabelec\", \"estim\", \"td\", \"atenci\", \"determin\", \"sel\", \"amo\", \"produto\", \"anatel\", \"fof\", \"brind\", \"relogi\", \"cuec\", \"ruimprodut\", \"cheg\", \"entreg\", \"cert\", \"r\\u00e1pid\", \"acord\", \"prev\", \"satisfeit\", \"recom\", \"tud\", \"sup\", \"produt\", \"perfeit\", \"obrig\", \"est\", \"qual\", \"excel\", \"sempr\", \"\\u00f3tim\", \"bom\", \"gost\", \"bem\", \"dat\", \"americ\", \"compr\", \"tod\", \"loj\", \"esper\", \"atend\", \"boa\", \"vem\", \"carreg\", \"cab\", \"model\", \"man\", \"\\u00fanic\", \"\\u00e1gu\", \"pont\", \"use\", \"tir\", \"fr\\u00e1gil\", \"fon\", \"frac\", \"encaix\", \"cap\", \"bot\", \"tamp\", \"sai\", \"t\\u00e9cn\", \"deslig\", \"branc\", \"lent\", \"vir\", \"p\\u00e9\", \"ouv\", \"solt\", \"parafus\", \"pl\\u00e1s\", \"cort\", \"arranh\", \"parec\", \"control\", \"coloc\", \"ser\", \"fic\", \"pod\", \"pouc\", \"part\", \"por\\u00e9m\", \"uso\", \"cor\", \"fot\", \"ach\", \"algum\", \"caix\", \"pe\\u00e7\", \"ruim\", \"outr\", \"us\", \"ter\", \"vei\", \"poi\", \"marc\", \"dev\", \"melhor\", \"faz\", \"pra\", \"compr\", \"funcion\", \"tv\", \"tod\", \"aparelh\", \"bem\", \"gost\", \"problem\", \"expect\", \"bonit\", \"f\\u00e1cil\", \"lind\", \"cust\", \"pen\", \"pr\\u00e1t\", \"necess\", \"benef\\u00edci\", \"cabel\", \"design\", \"super\", \"confort\", \"efici\", \"benefici\", \"desempenh\", \"modern\", \"manusei\", \"top\", \"\\u00fatil\", \"ideal\", \"sec\", \"co\", \"x\", \"facilit\", \"potent\", \"maci\", \"silenci\", \"aquis\", \"sal\", \"resist\", \"bom\", \"pre\\u00e7\", \"val\", \"\\u00f3tim\", \"boa\", \"bast\", \"c\\u00e2m\", \"qual\", \"excel\", \"atend\", \"limp\", \"recom\", \"bem\", \"ador\", \"imag\", \"produt\", \"gost\", \"sup\", \"aparelh\", \"perfeit\", \"lev\", \"r\\u00e1pid\", \"tod\", \"melhor\", \"pra\", \"compr\"], \"Freq\": [76283.0, 31439.0, 15908.0, 20534.0, 25738.0, 24295.0, 12709.0, 15396.0, 18253.0, 18414.0, 13021.0, 12256.0, 14497.0, 10878.0, 16647.0, 11706.0, 37498.0, 5608.0, 5261.0, 15317.0, 5157.0, 10527.0, 7464.0, 4791.0, 9165.0, 4667.0, 8867.0, 3889.0, 10413.0, 3587.0, 15395.865282022758, 13020.746716513106, 4848.460731626642, 4197.134649456297, 3776.3706235491636, 3067.9649507688914, 2989.983944486731, 3023.511288813415, 2985.473855879449, 2943.51359831048, 2793.031893655545, 2564.1965908704906, 2474.3360733776394, 2296.6993319943945, 2329.8079423038685, 2106.8884604160457, 2028.0527136296935, 2001.2051268633418, 1990.6650956835422, 1811.7901649671455, 1807.4932679867748, 1708.3306618977072, 1709.7534199078611, 1592.1076672895558, 1429.9227539903977, 1393.2415800579597, 1372.3675535877949, 1219.6077335445932, 1192.3062509475656, 1142.998901611109, 1158.0031259785087, 4608.222884546198, 7776.9058273072105, 2765.555095490322, 4839.245128754074, 23383.77554806928, 8274.395397693579, 6350.215122535681, 3340.3789415406386, 4416.106631752298, 3461.4666038855544, 4391.281157697222, 25237.893257337637, 2779.299539937354, 2536.4162907364002, 9862.325594793765, 3867.8774541609437, 4763.65043754583, 3487.0343006417315, 3510.677844265203, 3243.7875893268415, 2978.29344344527, 2829.321599398058, 15907.419823325372, 12708.478150555364, 3888.695078453117, 3586.9509324979845, 3383.202455905879, 2213.2827140628906, 1733.0942557359883, 1621.5480677546377, 995.0014263673413, 875.4279335551895, 791.6397420392506, 667.0080157376566, 329.68907473187465, 328.2960349613602, 290.73843699375976, 348.3552407762386, 262.60242799936987, 252.61945447210545, 255.85884832470015, 253.40712459866805, 238.63537594604793, 235.170318706892, 189.7261854791071, 190.64482574761354, 161.08077902316361, 176.19543854755833, 158.849602932569, 141.8723692841022, 142.14766064144618, 143.10122109625473, 204.96144537965438, 15770.79885034299, 21576.218485907855, 3026.952055680906, 8719.863050735446, 661.2964178715921, 860.1433827012477, 2954.409045584346, 13060.34338422252, 3526.1287995435355, 6228.138298822323, 31304.1206621447, 4284.824556113384, 1476.1248227779852, 1656.056989145488, 8045.842653710867, 6118.978124817774, 2130.0379674061865, 6944.278748801464, 8672.824686997854, 5586.423455353263, 5587.279583216991, 1658.0124504466355, 3431.571467989809, 5283.712017645121, 2832.3369922706715, 2516.948999805094, 2102.6724320100884, 2182.6782168877726, 1932.1377621932747, 2508.5648712277584, 2230.205523893218, 2076.0507914073846, 1998.6995841220792, 1779.7289167636095, 1660.6715019617855, 1402.5716230281785, 1385.3654461230926, 1372.4186173575354, 1221.87670803833, 1119.6626126970334, 1088.8265217454557, 1030.6297367127213, 1022.709300019674, 1005.7710393639753, 930.2722691881056, 904.8999934411277, 933.5025819382677, 868.6844794584355, 842.0604105559472, 839.2535037446764, 809.6548997411176, 818.7352952981512, 797.4294506502856, 792.5708313747222, 769.4350204786829, 750.6457677850121, 713.88387228186, 686.9409483608858, 698.2336760754129, 2727.3287488597593, 1482.9582029231801, 1882.5716181916557, 5936.333920288142, 6669.629076275262, 4664.519588661238, 4339.890931648962, 1835.508530758858, 3454.2976709926884, 3349.964089335447, 2467.2338042632405, 2528.5669724009904, 3848.3851329836207, 2495.373680877674, 1627.603064612941, 1898.8205797591254, 1967.4208677811419, 4822.2150352476565, 3577.404465050352, 3385.3677621697807, 4477.112605736365, 3863.1809306871005, 2480.9183420110635, 2487.8685577233205, 3367.7910689413784, 3600.851327578973, 4013.350445090087, 6318.2119734814905, 2367.12156536603, 2628.343087675722, 3332.3186107053684, 2728.084521235323, 3317.7095162350106, 3128.761220086857, 2405.268995388667, 5607.916364408483, 5260.903267197886, 5157.24613421467, 4790.9089013388, 4667.148560455329, 3557.6424443987385, 2981.933216648794, 3007.2886989798653, 2368.239850446644, 1797.9591491196895, 1684.433127333833, 1595.0237582175025, 1593.8841467239997, 1379.012880078243, 1234.3959370009118, 995.5289834978995, 904.7868942881171, 861.1860118494251, 850.2531479384265, 846.7191120814673, 777.3517255697953, 781.5257884825785, 792.1577663117931, 668.3624021137225, 633.78653000969, 618.5761053609694, 588.6351890154598, 583.1013742988296, 578.336631394434, 506.5939916354019, 1519.291473821939, 17065.295723325038, 4569.529411973097, 4609.377734033314, 11308.386510332828, 7006.742309117406, 2363.806649941799, 1794.8552624507668, 10196.072589992582, 8378.207795909355, 6195.080399530889, 1449.3207430278394, 11234.240493866831, 7742.4331469215385, 2882.4336393303333, 2735.1393778347133, 18698.23252528631, 5983.590585872751, 4650.152558141589, 3431.0826838655316, 3179.3284606889433, 2154.4812945938997, 3535.869995629091, 3216.9111847922723, 2443.9805194761266, 2470.417968942507, 2513.228512294388], \"Total\": [76283.0, 31439.0, 15908.0, 20534.0, 25738.0, 24295.0, 12709.0, 15396.0, 18253.0, 18414.0, 13021.0, 12256.0, 14497.0, 10878.0, 16647.0, 11706.0, 37498.0, 5608.0, 5261.0, 15317.0, 5157.0, 10527.0, 7464.0, 4791.0, 9165.0, 4667.0, 8867.0, 3889.0, 10413.0, 3587.0, 15396.665364400864, 13021.530871206676, 4849.24435713805, 4197.913377362276, 3777.1599457329025, 3068.7506462350607, 2990.769923523453, 3024.3083630046062, 2986.2667329944006, 2944.3224164464905, 2793.805937407978, 2564.968371544898, 2475.1146801510436, 2297.4654748555977, 2330.60475394649, 2107.68489701649, 2028.821381150446, 2001.9890982082295, 1991.453120923626, 1812.5614971005543, 1808.2781335936663, 1709.118305059341, 1710.5702513901635, 1592.882969354103, 1430.7007242423545, 1394.0294187295738, 1373.1513484001669, 1220.3830975272767, 1193.080466325084, 1143.783709959842, 1158.7988655702134, 5132.61095872107, 9165.1518716566, 3079.1859136033936, 5816.321021429314, 37498.92805149028, 11706.482359993563, 8867.681905761725, 4094.6403274146705, 5985.623254277682, 4336.07643597121, 6051.204053208668, 76283.20141275678, 3320.9882207037303, 2943.8621926972723, 31439.058310827204, 7731.60514153526, 20534.96786203556, 8309.793594571896, 9994.715193160866, 7414.43154302207, 5858.523055095841, 9210.991111724214, 15908.174519245747, 12709.231560816848, 3889.462325981035, 3587.696403548381, 3383.967548455787, 2214.027228553564, 1733.8506436148673, 1622.320066572365, 995.7565471508146, 876.2190090494968, 792.3874770595759, 667.7576307299969, 330.49784629781544, 329.1349483046812, 291.4847682107079, 349.25982256730276, 263.34330683251886, 253.3626854688089, 256.6155401943549, 254.17738018515558, 239.39152908787867, 235.95118547840644, 190.51163139382066, 191.44601487049596, 161.85912020521226, 177.0903135926107, 159.67533018451545, 142.63953818542947, 142.91860964464124, 143.89758922637898, 206.17335423546197, 20534.96786203556, 31439.058310827204, 3811.1310752412796, 12256.228746082894, 743.6039590989099, 1033.441137793369, 4351.020464779911, 24295.08826766108, 5564.106740810197, 10878.780304001062, 76283.20141275678, 7464.6487611459, 2132.1382382843094, 2539.718039294502, 18414.297850377596, 14497.67622321528, 3728.5504243065157, 18253.15664633934, 25738.626443215835, 15317.9881209318, 16647.66096713789, 2758.478503197822, 11706.482359993563, 37498.92805149028, 9987.874459908999, 8867.681905761725, 6724.873699201126, 10413.242071282544, 10527.55405069948, 2509.3483073689276, 2230.978744059931, 2076.825346498303, 1999.482278698231, 1780.5006012217004, 1661.4506780649258, 1403.3320619847022, 1386.1362768753083, 1373.2167408933196, 1222.6563866468932, 1120.4268882830645, 1089.621767213104, 1031.3891949317554, 1023.4744426550142, 1006.5405764710777, 931.0471518715759, 905.6633829002456, 934.2990094811635, 869.4507400507447, 842.821248186506, 840.0247125076553, 810.4196349560715, 819.5152787421079, 798.1964690844203, 793.3526948941231, 770.1943860923304, 751.4026347717826, 714.642966020495, 687.7075366033704, 699.0372181858819, 2853.5179070220265, 1581.9449910305523, 2063.9558452896144, 7952.5807884729575, 9179.620769310677, 6097.184313561999, 5709.400018111387, 2104.93582356011, 4509.290151476977, 4404.314879542298, 3063.205693513959, 3267.7383183166194, 5532.653687689899, 3240.3254263642893, 1894.804423568757, 2331.3326900661086, 2473.9009171350435, 8309.793594571896, 5653.203647196964, 5378.964912467623, 9210.991111724214, 7731.60514153526, 3743.793951974616, 3792.984272182653, 6467.83904441339, 7414.43154302207, 9994.715193160866, 37498.92805149028, 3824.787803041439, 5122.467263294018, 9987.874459908999, 6604.090703812439, 16647.66096713789, 15317.9881209318, 5858.523055095841, 5608.673245890411, 5261.662817495278, 5157.999907536118, 4791.679413128085, 4667.911199991719, 3558.413403967078, 2982.683332911735, 3008.0534154168286, 2368.9886272365356, 1798.7122337770074, 1685.1804128181016, 1595.7768944680222, 1594.6451531757161, 1379.7852592294246, 1235.1417371820921, 996.2845238010424, 905.5384299114216, 861.9448089439044, 851.009856314632, 847.4940260018853, 778.1043905699158, 782.2958373243367, 792.94671828054, 669.1204305048105, 634.5495114587767, 619.323105829225, 589.3825063061267, 583.8549306392795, 579.1023326853137, 507.4188359708977, 1695.0266850763612, 25738.626443215835, 6242.831665981621, 6408.779040543195, 18253.15664633934, 10527.55405069948, 2979.640990141706, 2153.5017763052974, 18414.297850377596, 14497.67622321528, 10413.242071282544, 1692.0155995748892, 24295.08826766108, 16647.66096713789, 4432.266163271886, 4312.495741156467, 76283.20141275678, 15317.9881209318, 10878.780304001062, 6604.090703812439, 7464.6487611459, 3345.881834752155, 12256.228746082894, 9987.874459908999, 6467.83904441339, 9994.715193160866, 37498.92805149028], \"Category\": [\"Default\", \"Default\", \"Default\", \"Default\", \"Default\", \"Default\", \"Default\", \"Default\", \"Default\", \"Default\", \"Default\", \"Default\", \"Default\", \"Default\", \"Default\", \"Default\", \"Default\", \"Default\", \"Default\", \"Default\", \"Default\", \"Default\", \"Default\", \"Default\", \"Default\", \"Default\", \"Default\", \"Default\", \"Default\", \"Default\", \"Topic1\", \"Topic1\", \"Topic1\", \"Topic1\", \"Topic1\", \"Topic1\", \"Topic1\", \"Topic1\", \"Topic1\", \"Topic1\", \"Topic1\", \"Topic1\", \"Topic1\", \"Topic1\", \"Topic1\", \"Topic1\", \"Topic1\", \"Topic1\", \"Topic1\", \"Topic1\", \"Topic1\", \"Topic1\", \"Topic1\", \"Topic1\", \"Topic1\", \"Topic1\", \"Topic1\", \"Topic1\", \"Topic1\", \"Topic1\", \"Topic1\", \"Topic1\", \"Topic1\", \"Topic1\", \"Topic1\", \"Topic1\", \"Topic1\", \"Topic1\", \"Topic1\", \"Topic1\", \"Topic1\", \"Topic1\", \"Topic1\", \"Topic1\", \"Topic1\", \"Topic1\", \"Topic1\", \"Topic1\", \"Topic1\", \"Topic1\", \"Topic1\", \"Topic1\", \"Topic1\", \"Topic2\", \"Topic2\", \"Topic2\", \"Topic2\", \"Topic2\", \"Topic2\", \"Topic2\", \"Topic2\", \"Topic2\", \"Topic2\", \"Topic2\", \"Topic2\", \"Topic2\", \"Topic2\", \"Topic2\", \"Topic2\", \"Topic2\", \"Topic2\", \"Topic2\", \"Topic2\", \"Topic2\", \"Topic2\", \"Topic2\", \"Topic2\", \"Topic2\", \"Topic2\", \"Topic2\", \"Topic2\", \"Topic2\", \"Topic2\", \"Topic2\", \"Topic2\", \"Topic2\", \"Topic2\", \"Topic2\", \"Topic2\", \"Topic2\", \"Topic2\", \"Topic2\", \"Topic2\", \"Topic2\", \"Topic2\", \"Topic2\", \"Topic2\", \"Topic2\", \"Topic2\", \"Topic2\", \"Topic2\", \"Topic2\", \"Topic2\", \"Topic2\", \"Topic2\", \"Topic2\", \"Topic2\", \"Topic2\", \"Topic2\", \"Topic2\", \"Topic2\", \"Topic2\", \"Topic2\", \"Topic3\", \"Topic3\", \"Topic3\", \"Topic3\", \"Topic3\", \"Topic3\", \"Topic3\", \"Topic3\", \"Topic3\", \"Topic3\", \"Topic3\", \"Topic3\", \"Topic3\", \"Topic3\", \"Topic3\", \"Topic3\", \"Topic3\", \"Topic3\", \"Topic3\", \"Topic3\", \"Topic3\", \"Topic3\", \"Topic3\", \"Topic3\", \"Topic3\", \"Topic3\", \"Topic3\", \"Topic3\", \"Topic3\", \"Topic3\", \"Topic3\", \"Topic3\", \"Topic3\", \"Topic3\", \"Topic3\", \"Topic3\", \"Topic3\", \"Topic3\", \"Topic3\", \"Topic3\", \"Topic3\", \"Topic3\", \"Topic3\", \"Topic3\", \"Topic3\", \"Topic3\", \"Topic3\", \"Topic3\", \"Topic3\", \"Topic3\", \"Topic3\", \"Topic3\", \"Topic3\", \"Topic3\", \"Topic3\", \"Topic3\", \"Topic3\", \"Topic3\", \"Topic3\", \"Topic3\", \"Topic3\", \"Topic3\", \"Topic3\", \"Topic3\", \"Topic3\", \"Topic4\", \"Topic4\", \"Topic4\", \"Topic4\", \"Topic4\", \"Topic4\", \"Topic4\", \"Topic4\", \"Topic4\", \"Topic4\", \"Topic4\", \"Topic4\", \"Topic4\", \"Topic4\", \"Topic4\", \"Topic4\", \"Topic4\", \"Topic4\", \"Topic4\", \"Topic4\", \"Topic4\", \"Topic4\", \"Topic4\", \"Topic4\", \"Topic4\", \"Topic4\", \"Topic4\", \"Topic4\", \"Topic4\", \"Topic4\", \"Topic4\", \"Topic4\", \"Topic4\", \"Topic4\", \"Topic4\", \"Topic4\", \"Topic4\", \"Topic4\", \"Topic4\", \"Topic4\", \"Topic4\", \"Topic4\", \"Topic4\", \"Topic4\", \"Topic4\", \"Topic4\", \"Topic4\", \"Topic4\", \"Topic4\", \"Topic4\", \"Topic4\", \"Topic4\", \"Topic4\", \"Topic4\", \"Topic4\", \"Topic4\", \"Topic4\"], \"logprob\": [30.0, 29.0, 28.0, 27.0, 26.0, 25.0, 24.0, 23.0, 22.0, 21.0, 20.0, 19.0, 18.0, 17.0, 16.0, 15.0, 14.0, 13.0, 12.0, 11.0, 10.0, 9.0, 8.0, 7.0, 6.0, 5.0, 4.0, 3.0, 2.0, 1.0, -3.538599967956543, -3.7060999870300293, -4.693999767303467, -4.8383002281188965, -4.943900108337402, -5.151700019836426, -5.1774001121521, -5.166299819946289, -5.178899765014648, -5.1930999755859375, -5.245500087738037, -5.330999851226807, -5.366700172424316, -5.441199779510498, -5.4268999099731445, -5.527500152587891, -5.5655999183654785, -5.57889986038208, -5.584199905395508, -5.678400039672852, -5.680699825286865, -5.737199783325195, -5.736299991607666, -5.807600021362305, -5.914999961853027, -5.940999984741211, -5.956099987030029, -6.074100017547607, -6.096799850463867, -6.138999938964844, -6.125999927520752, -4.744800090789795, -4.221499919891357, -5.25540018081665, -4.695899963378906, -3.1205999851226807, -4.1595001220703125, -4.424200057983398, -5.0665998458862305, -4.787399768829346, -5.031000137329102, -4.793000221252441, -3.044300079345703, -5.250500202178955, -5.341899871826172, -3.9839000701904297, -4.920000076293945, -4.711699962615967, -5.023600101470947, -5.016900062561035, -5.095900058746338, -5.181300163269043, -5.232600212097168, -2.9267001152038574, -3.15120005607605, -4.335400104522705, -4.416200160980225, -4.474599838256836, -4.89900016784668, -5.143599987030029, -5.210100173950195, -5.698500156402588, -5.826499938964844, -5.92710018157959, -6.098400115966797, -6.803100109100342, -6.807300090789795, -6.928800106048584, -6.748000144958496, -7.030600070953369, -7.069300174713135, -7.056600093841553, -7.066199779510498, -7.126299858093262, -7.140900135040283, -7.355599880218506, -7.350800037384033, -7.5192999839782715, -7.429599761962891, -7.533299922943115, -7.646299839019775, -7.6442999839782715, -7.637700080871582, -7.27839994430542, -2.93530011177063, -2.6219000816345215, -4.585899829864502, -3.527899980545044, -6.10699987411499, -5.844099998474121, -4.610199928283691, -3.1238999366760254, -4.433300018310547, -3.8643999099731445, -2.2497000694274902, -4.238399982452393, -5.303999900817871, -5.189000129699707, -3.608299970626831, -3.8821001052856445, -4.937300205230713, -3.755500078201294, -3.5332999229431152, -3.973099946975708, -3.9730000495910645, -5.18779993057251, -4.460400104522705, -4.028800010681152, -4.652400016784668, -4.770400047302246, -4.950200080871582, -4.912899971008301, -5.034800052642822, -5.511099815368652, -5.628699779510498, -5.700300216674805, -5.73829984664917, -5.854300022125244, -5.923600196838379, -6.09250020980835, -6.104800224304199, -6.114200115203857, -6.230400085449219, -6.317699909210205, -6.345699787139893, -6.400599956512451, -6.408299922943115, -6.425000190734863, -6.5030999183654785, -6.530700206756592, -6.499599933624268, -6.571499824523926, -6.602700233459473, -6.605999946594238, -6.641900062561035, -6.630799770355225, -6.657100200653076, -6.6631999015808105, -6.69290018081665, -6.717599868774414, -6.7677998542785645, -6.806300163269043, -6.789999961853027, -5.4274001121521, -6.0366997718811035, -5.798099994659424, -4.649700164794922, -4.533199787139893, -4.8907999992370605, -4.962900161743164, -5.823500156402588, -5.191199779510498, -5.221799850463867, -5.527699947357178, -5.5030999183654785, -5.083099842071533, -5.516300201416016, -5.943699836730957, -5.7895002365112305, -5.754000186920166, -4.857500076293945, -5.156099796295166, -5.211299896240234, -4.93179988861084, -5.0792999267578125, -5.52209997177124, -5.5192999839782715, -5.2164998054504395, -5.149600028991699, -5.041100025177002, -4.587299823760986, -5.5690999031066895, -5.464399814605713, -5.227099895477295, -5.427199840545654, -5.231500148773193, -5.29010009765625, -5.553100109100342, -4.203100204467773, -4.266900062561035, -4.286799907684326, -4.360499858856201, -4.38670015335083, -4.658199787139893, -4.834700107574463, -4.826200008392334, -5.065100193023682, -5.34060001373291, -5.405799865722656, -5.460400104522705, -5.461100101470947, -5.605899810791016, -5.716700077056885, -5.931700229644775, -6.027299880981445, -6.076700210571289, -6.0894999504089355, -6.093599796295166, -6.179100036621094, -6.173799991607666, -6.160200119018555, -6.3302001953125, -6.383299827575684, -6.407599925994873, -6.457200050354004, -6.466599941253662, -6.474899768829346, -6.6072998046875, -5.508999824523926, -3.0901999473571777, -4.407800197601318, -4.399199962615967, -3.501699924468994, -3.9804000854492188, -5.066999912261963, -5.342299938201904, -3.6052000522613525, -3.8015999794006348, -4.103499889373779, -5.55620002746582, -3.5083000659942627, -3.880500078201294, -4.868599891662598, -4.92110013961792, -2.998800039291382, -4.138199806213379, -4.390399932861328, -4.694399833679199, -4.770599842071533, -5.1596999168396, -4.664299964904785, -4.758800029754639, -5.033599853515625, -5.022900104522705, -5.00570011138916], \"loglift\": [30.0, 29.0, 28.0, 27.0, 26.0, 25.0, 24.0, 23.0, 22.0, 21.0, 20.0, 19.0, 18.0, 17.0, 16.0, 15.0, 14.0, 13.0, 12.0, 11.0, 10.0, 9.0, 8.0, 7.0, 6.0, 5.0, 4.0, 3.0, 2.0, 1.0, 1.2353, 1.2353, 1.2352, 1.2352, 1.2351, 1.2351, 1.2351, 1.2351, 1.2351, 1.2351, 1.2351, 1.235, 1.235, 1.235, 1.235, 1.235, 1.235, 1.2349, 1.2349, 1.2349, 1.2349, 1.2349, 1.2349, 1.2349, 1.2348, 1.2348, 1.2348, 1.2347, 1.2347, 1.2347, 1.2347, 1.1276, 1.0711, 1.1279, 1.0514, 0.7631, 0.8884, 0.9014, 1.0317, 0.9312, 1.0101, 0.9147, 0.1292, 1.0573, 1.0864, 0.076, 0.5427, -0.2258, 0.367, 0.1891, 0.4087, 0.5588, 0.055, 1.8145, 1.8145, 1.8144, 1.8143, 1.8143, 1.8142, 1.8141, 1.8141, 1.8138, 1.8136, 1.8136, 1.8134, 1.8121, 1.812, 1.812, 1.812, 1.8117, 1.8116, 1.8116, 1.8115, 1.8114, 1.8112, 1.8104, 1.8104, 1.8097, 1.8095, 1.8094, 1.8092, 1.8091, 1.809, 1.8087, 1.5506, 1.4381, 1.5842, 1.4741, 1.6972, 1.631, 1.4274, 1.1939, 1.3584, 1.2568, 0.9238, 1.2595, 1.4468, 1.3869, 0.9866, 0.952, 1.2547, 0.8481, 0.7268, 0.8059, 0.7228, 1.3055, 0.5874, -0.1451, 0.5543, 0.5552, 0.6519, 0.252, 0.1192, 1.0769, 1.0769, 1.0769, 1.0768, 1.0768, 1.0768, 1.0767, 1.0767, 1.0767, 1.0766, 1.0766, 1.0765, 1.0765, 1.0765, 1.0765, 1.0764, 1.0764, 1.0764, 1.0764, 1.0763, 1.0763, 1.0763, 1.0763, 1.0763, 1.0763, 1.0763, 1.0762, 1.0762, 1.0761, 1.0761, 1.032, 1.0126, 0.9853, 0.7848, 0.7578, 0.8094, 0.803, 0.9403, 0.8107, 0.8036, 0.8609, 0.8208, 0.7142, 0.816, 0.9252, 0.872, 0.8482, 0.533, 0.6197, 0.6142, 0.3558, 0.3834, 0.6658, 0.6555, 0.4247, 0.355, 0.1648, -0.7036, 0.5974, 0.41, -0.0205, 0.1931, -0.5358, -0.5112, 0.187, 1.5806, 1.5806, 1.5806, 1.5806, 1.5806, 1.5805, 1.5805, 1.5805, 1.5804, 1.5803, 1.5803, 1.5803, 1.5803, 1.5802, 1.5802, 1.58, 1.5799, 1.5799, 1.5799, 1.5798, 1.5798, 1.5798, 1.5798, 1.5796, 1.5796, 1.5796, 1.5795, 1.5795, 1.5794, 1.5791, 1.4713, 1.1698, 1.2687, 1.2512, 1.102, 1.1736, 1.3492, 1.3986, 0.9896, 1.0324, 1.0614, 1.4259, 0.8095, 0.8152, 1.1505, 1.1254, 0.1747, 0.6408, 0.7308, 0.9259, 0.7273, 1.1406, 0.3377, 0.4478, 0.6075, 0.1831, -1.122]}, \"token.table\": {\"Topic\": [1, 3, 4, 2, 3, 2, 4, 2, 1, 3, 2, 1, 1, 3, 1, 3, 1, 2, 2, 2, 2, 1, 3, 4, 4, 3, 1, 2, 1, 2, 4, 1, 1, 3, 4, 2, 3, 4, 4, 4, 1, 2, 3, 4, 2, 4, 4, 3, 3, 2, 3, 4, 1, 2, 3, 1, 3, 3, 2, 3, 1, 2, 4, 1, 3, 2, 1, 2, 3, 4, 2, 2, 4, 1, 3, 4, 3, 4, 1, 3, 2, 4, 3, 4, 1, 2, 2, 4, 4, 3, 2, 1, 3, 1, 1, 1, 4, 1, 2, 1, 2, 3, 1, 2, 1, 1, 2, 3, 4, 1, 2, 3, 2, 2, 2, 2, 4, 4, 4, 1, 3, 4, 1, 3, 4, 1, 1, 2, 3, 2, 3, 4, 3, 1, 3, 1, 2, 3, 4, 1, 2, 3, 4, 1, 4, 3, 4, 3, 1, 3, 4, 3, 4, 4, 1, 2, 4, 3, 1, 4, 1, 2, 3, 4, 2, 3, 4, 3, 4, 1, 1, 3, 1, 3, 4, 1, 1, 1, 2, 1, 3, 3, 1, 2, 2, 3, 1, 1, 3, 1, 3, 1, 4, 2, 4, 1, 3, 3, 1, 2, 3, 1, 3, 3, 2, 1, 3, 1, 4, 3, 4, 1, 3, 4, 2, 1, 2, 2, 2, 3, 4, 1, 2, 3, 1, 2, 3, 4, 2, 4, 3, 2, 3, 4, 1, 3, 2, 1, 1, 2, 4, 2, 3, 4, 1, 1, 1, 1, 1, 3, 2, 3, 2, 4, 3, 4, 2, 4, 4, 2, 1, 2, 3, 2, 1, 3, 4, 4, 1, 2, 1, 3, 2, 4, 4, 3, 2, 1, 3, 3, 1, 2, 3, 4, 4, 1, 3, 2, 3, 4, 1, 3, 4, 3, 3, 4, 3, 3, 4, 1, 4, 1, 2, 3, 3, 1, 2, 3, 1, 3, 4, 3, 2, 2, 4, 3, 4], \"Freq\": [0.1359203092131345, 0.6955071141650819, 0.1684544257801082, 0.8889140407495836, 0.11027375392052322, 0.34948262196793084, 0.6502317085291005, 0.9988654105993987, 0.8977886765741171, 0.10209228874236921, 0.9963928786367633, 0.9996224625786263, 0.8485402215811082, 0.15144320786351784, 0.22960656789178827, 0.7699843909811986, 0.7067878928580685, 0.29317090262133083, 0.9976702838614966, 0.9938431776956536, 0.9999030971454919, 0.06738247852094285, 0.4130773065283867, 0.5195264804614718, 0.9980964803229125, 0.9985162189381366, 0.9993456830600722, 0.9983644822798432, 0.19542424790182178, 0.20963692047649973, 0.5949155851360127, 0.9992931764367873, 0.9997824211030171, 0.2064007046603127, 0.7933841720601289, 0.3356027018467407, 0.1993072784548927, 0.46505031639474964, 0.9990756225397281, 0.9995826796189863, 0.00037995530402755125, 0.18351841184530726, 0.15055728922091718, 0.665586703830263, 0.33696436828648335, 0.6630112930714676, 0.9998740288919551, 0.9988752966275972, 0.9987801400454085, 0.9955164031406349, 0.9996025922450846, 0.9996040312821401, 0.11294041608629089, 0.027971224544735596, 0.8591915765816897, 0.9997973963653896, 0.9994629362355436, 0.9995612938659604, 0.7942523991538032, 0.2057132081059074, 0.23199451939769247, 0.7680070456383308, 0.9988060757946096, 0.08769567450441366, 0.9123257187392869, 0.9986087849762365, 0.6235911588696914, 0.14091069464024328, 0.16848481618793662, 0.06701524898390072, 0.9992402287959046, 0.999802710587781, 0.9995954252427687, 0.9997553902804122, 0.9374535830312943, 0.061949056734367396, 0.8053654396189043, 0.1942409552384467, 0.9996860842074485, 0.9989711664250984, 0.9937623053228022, 0.999804794917324, 0.16624086589527245, 0.833526129279369, 0.39877055366746655, 0.6010559799824178, 0.999881133703765, 0.999714415115115, 0.9992995332671073, 0.9990255962479908, 0.9959687192226737, 0.3440562645014725, 0.6559478820533821, 0.9994456784515307, 0.9997724671904825, 0.999956785161909, 0.999430883013011, 0.999595143683876, 0.9997140786836952, 0.8614533677191002, 0.13825375420413005, 0.9995364391769438, 0.3136862402969511, 0.6862800974089451, 0.9997425667827546, 0.3951003570989943, 0.3127196277678529, 0.11732562354200471, 0.17502187440930234, 0.1622227324551539, 0.6520408857906186, 0.18545365773392591, 0.9985685126910547, 0.9976013136465208, 0.999511000525887, 0.42206764075759823, 0.5778857156834708, 0.9998799634314757, 0.9991340132663353, 0.43752511317648074, 0.48567445516291835, 0.07687710065061468, 0.10871908819332878, 0.7266095373241512, 0.16471268672175662, 0.9990943893931882, 0.9998980385041492, 0.9957706041143922, 0.9994293733552201, 0.08507413168359582, 0.7739297806755893, 0.14107616800768946, 0.9996226497876186, 0.9992615516460822, 0.9996189949674283, 0.13752396919424634, 0.2436736488384745, 0.6188578613741086, 0.9998061443284135, 0.04041000653043632, 0.3646692996430005, 0.20426964528874839, 0.39065182403575277, 0.9997115270616377, 0.9985806652895161, 0.3656815205519719, 0.6342035248634389, 0.9994822004083178, 0.025404363990725435, 0.3305556067499098, 0.6437764710120304, 0.14302468609674837, 0.8563750832817701, 0.9998582098113193, 0.7160834215167466, 0.28383968062325216, 0.9993510049890622, 0.9997188424304059, 0.9995496450487799, 0.998903863757748, 0.07265357108035743, 0.10817903046891456, 0.6626967273910543, 0.1562585995662099, 0.10142491108628027, 0.5207303361868779, 0.3778696382543734, 0.999758798213233, 0.9994054035768816, 0.9996750477182526, 0.7377677833037795, 0.26212809148632926, 0.725640709086923, 0.27416031345370195, 0.9996498016253869, 0.999161528405803, 0.9998904955365318, 0.30720334556124557, 0.692262806180761, 0.41962534451851724, 0.5802791543642931, 0.9995554374537415, 0.9996929053178664, 0.9983369003681267, 0.9998058911708102, 0.999464155762636, 0.9995059422605673, 0.04415602218228077, 0.9556624800879339, 0.12779487003315676, 0.8722356185162669, 0.9997433915376489, 0.9998838235134183, 0.5740390656160236, 0.42587402324231943, 0.18530173828933438, 0.8145555578968657, 0.9991002975596677, 0.17204662776336016, 0.06297989043005749, 0.7651072626464015, 0.5002842138459147, 0.4996375176025772, 0.9991802560150365, 0.9986963525420557, 0.23373967178731486, 0.7659742185515992, 0.9997405162992713, 0.9994782919833219, 0.7601499257772499, 0.23978001114955186, 0.3512856476793345, 0.4015121914375305, 0.24713060375048598, 0.9999261688231842, 0.16740189031897276, 0.8321712466723502, 0.9995360361696026, 0.19926854776155395, 0.06871881590812431, 0.7320396006995993, 0.5083192422379709, 0.08107845536032107, 0.4105130213506783, 0.33084610415654986, 0.41036557748302704, 0.013672735027945221, 0.24511294300337463, 0.9946921730198272, 0.9997708999463017, 0.9985010343558739, 0.4369430789800661, 0.009340567932459779, 0.5537001781358134, 0.8367991137924359, 0.16290331794232019, 0.9995093904898903, 0.9999592312753449, 0.9995758138479711, 0.5375572155209668, 0.46239799074751464, 0.9935724980327942, 0.10324321235810882, 0.8961510832683846, 0.9993148093009039, 0.9993106089469459, 0.999666630826942, 0.9996902190069399, 0.20453527321780723, 0.7951005581411597, 0.9943088948627089, 0.004850287292013214, 0.7114749716781292, 0.28850636466214047, 0.9996799638251468, 0.9991745754370819, 0.6789211919161642, 0.32084427349863415, 0.9996218344643779, 0.9973144348716272, 0.2419170716104143, 0.5712675859536391, 0.1869359189716838, 0.9984936473765496, 0.15554698944938689, 0.7464243568080522, 0.09795562229674405, 0.9985357139343786, 0.8319692090879218, 0.16797559770177714, 0.9995102230463149, 0.9984492407190991, 0.5724906493156617, 0.42743762352566267, 0.9995131559613907, 0.9992675171451437, 0.9953678797684596, 0.3705173825136001, 0.6293032312135155, 0.9994631470836272, 0.0606735699805263, 0.28354381218622193, 0.3336045134902865, 0.3220905521903517, 0.9988133435739449, 0.7981870363926813, 0.20156471245512955, 0.6337045934324715, 0.2571841387413122, 0.10909208400836931, 0.0322110404067075, 0.5130340253868322, 0.454663715801344, 0.9994815806922904, 0.6327385714777123, 0.3670485143461708, 0.999113948397885, 0.7606177332053372, 0.2393107733726643, 0.28070869484174327, 0.719169746818007, 0.3071330724007655, 0.20670956869956078, 0.48604975791383065, 0.9998611960850932, 0.8157004603402748, 0.18414315781334345, 0.9993712396150822, 0.8982893782997045, 0.10165024418214298, 0.9983255174199879, 0.9997633760435626, 0.9965517235087701, 0.38042734933700445, 0.6195092837417693, 0.9997287442408759, 0.9994170743548294], \"Term\": [\"ach\", \"ach\", \"ach\", \"acord\", \"acord\", \"ador\", \"ador\", \"agil\", \"agor\", \"agor\", \"agrade\\u00e7\", \"aguard\", \"aind\", \"aind\", \"algum\", \"algum\", \"americ\", \"americ\", \"amo\", \"anatel\", \"ant\", \"aparelh\", \"aparelh\", \"aparelh\", \"aquis\", \"arranh\", \"ate\", \"atenci\", \"atend\", \"atend\", \"atend\", \"atras\", \"avali\", \"bast\", \"bast\", \"bem\", \"bem\", \"bem\", \"benefici\", \"benef\\u00edci\", \"boa\", \"boa\", \"boa\", \"boa\", \"bom\", \"bom\", \"bonit\", \"bot\", \"branc\", \"brind\", \"cab\", \"cabel\", \"caix\", \"caix\", \"caix\", \"cancel\", \"cap\", \"carreg\", \"cert\", \"cert\", \"cheg\", \"cheg\", \"co\", \"coloc\", \"coloc\", \"combin\", \"compr\", \"compr\", \"compr\", \"compr\", \"cond\", \"conform\", \"confort\", \"contat\", \"control\", \"control\", \"cor\", \"cor\", \"correi\", \"cort\", \"cuec\", \"cust\", \"c\\u00e2m\", \"c\\u00e2m\", \"dat\", \"dat\", \"dentr\", \"desempenh\", \"design\", \"deslig\", \"determin\", \"dev\", \"dev\", \"devolu\\u00e7\", \"devolv\", \"dia\", \"efici\", \"email\", \"embal\", \"empr\", \"empr\", \"encaix\", \"entreg\", \"entreg\", \"envi\", \"esper\", \"esper\", \"esper\", \"esper\", \"est\", \"est\", \"est\", \"estabelec\", \"estim\", \"estipul\", \"excel\", \"excel\", \"expect\", \"facilit\", \"faz\", \"faz\", \"faz\", \"fic\", \"fic\", \"fic\", \"fiscal\", \"fiz\", \"fof\", \"fon\", \"fot\", \"fot\", \"fot\", \"frac\", \"fret\", \"fr\\u00e1gil\", \"funcion\", \"funcion\", \"funcion\", \"f\\u00e1cil\", \"gost\", \"gost\", \"gost\", \"gost\", \"hoj\", \"ideal\", \"imag\", \"imag\", \"lent\", \"lev\", \"lev\", \"lev\", \"limp\", \"limp\", \"lind\", \"loj\", \"loj\", \"maci\", \"man\", \"mand\", \"manusei\", \"marc\", \"marc\", \"marc\", \"marc\", \"melhor\", \"melhor\", \"melhor\", \"model\", \"modern\", \"m\\u00ea\", \"nad\", \"nad\", \"nao\", \"nao\", \"necess\", \"ningu\\u00e9m\", \"not\", \"obrig\", \"obrig\", \"outr\", \"outr\", \"ouv\", \"pag\", \"parab\", \"parab\\u00e9m\", \"parafus\", \"parc\", \"parec\", \"parec\", \"part\", \"part\", \"ped\", \"pen\", \"perfeit\", \"perfeit\", \"pe\\u00e7\", \"pe\\u00e7\", \"pl\\u00e1s\", \"pod\", \"pod\", \"pod\", \"poi\", \"poi\", \"pont\", \"pontual\", \"por\\u00e9m\", \"por\\u00e9m\", \"poss\", \"potent\", \"pouc\", \"pouc\", \"pra\", \"pra\", \"pra\", \"praz\", \"prev\", \"prev\", \"previst\", \"pre\\u00e7\", \"pre\\u00e7\", \"pre\\u00e7\", \"problem\", \"problem\", \"problem\", \"produt\", \"produt\", \"produt\", \"produt\", \"produto\", \"pr\\u00e1t\", \"p\\u00e9\", \"qual\", \"qual\", \"qual\", \"quer\", \"quer\", \"rap\", \"receb\", \"reclam\", \"recom\", \"recom\", \"relogi\", \"resist\", \"resist\", \"respeit\", \"respond\", \"respost\", \"retorn\", \"ruim\", \"ruim\", \"ruimprodut\", \"ruimprodut\", \"r\\u00e1pid\", \"r\\u00e1pid\", \"sai\", \"sal\", \"satisfeit\", \"satisfeit\", \"sec\", \"sel\", \"sempr\", \"sempr\", \"sempr\", \"sensac\", \"ser\", \"ser\", \"ser\", \"silenci\", \"sit\", \"sit\", \"solicit\", \"solt\", \"sup\", \"sup\", \"super\", \"tamp\", \"td\", \"ter\", \"ter\", \"tir\", \"tod\", \"tod\", \"tod\", \"tod\", \"top\", \"troc\", \"troc\", \"tud\", \"tud\", \"tud\", \"tv\", \"tv\", \"tv\", \"t\\u00e9cn\", \"us\", \"us\", \"use\", \"uso\", \"uso\", \"val\", \"val\", \"vei\", \"vei\", \"vei\", \"vem\", \"vend\", \"vend\", \"vir\", \"vou\", \"vou\", \"x\", \"\\u00e1gu\", \"\\u00f1\", \"\\u00f3tim\", \"\\u00f3tim\", \"\\u00fanic\", \"\\u00fatil\"]}, \"R\": 30, \"lambda.step\": 0.01, \"plot.opts\": {\"xlab\": \"PC1\", \"ylab\": \"PC2\"}, \"topic.order\": [1, 2, 3, 4]};\n",
              "\n",
              "function LDAvis_load_lib(url, callback){\n",
              "  var s = document.createElement('script');\n",
              "  s.src = url;\n",
              "  s.async = true;\n",
              "  s.onreadystatechange = s.onload = callback;\n",
              "  s.onerror = function(){console.warn(\"failed to load library \" + url);};\n",
              "  document.getElementsByTagName(\"head\")[0].appendChild(s);\n",
              "}\n",
              "\n",
              "if(typeof(LDAvis) !== \"undefined\"){\n",
              "   // already loaded: just create the visualization\n",
              "   !function(LDAvis){\n",
              "       new LDAvis(\"#\" + \"ldavis_el5031397718015406722661408913\", ldavis_el5031397718015406722661408913_data);\n",
              "   }(LDAvis);\n",
              "}else if(typeof define === \"function\" && define.amd){\n",
              "   // require.js is available: use it to load d3/LDAvis\n",
              "   require.config({paths: {d3: \"https://cdnjs.cloudflare.com/ajax/libs/d3/3.5.5/d3.min\"}});\n",
              "   require([\"d3\"], function(d3){\n",
              "      window.d3 = d3;\n",
              "      LDAvis_load_lib(\"https://cdn.rawgit.com/bmabey/pyLDAvis/files/ldavis.v1.0.0.js\", function(){\n",
              "        new LDAvis(\"#\" + \"ldavis_el5031397718015406722661408913\", ldavis_el5031397718015406722661408913_data);\n",
              "      });\n",
              "    });\n",
              "}else{\n",
              "    // require.js not available: dynamically load d3 & LDAvis\n",
              "    LDAvis_load_lib(\"https://cdnjs.cloudflare.com/ajax/libs/d3/3.5.5/d3.min.js\", function(){\n",
              "         LDAvis_load_lib(\"https://cdn.rawgit.com/bmabey/pyLDAvis/files/ldavis.v1.0.0.js\", function(){\n",
              "                 new LDAvis(\"#\" + \"ldavis_el5031397718015406722661408913\", ldavis_el5031397718015406722661408913_data);\n",
              "            })\n",
              "         });\n",
              "}\n",
              "</script>"
            ],
            "text/plain": [
              "<IPython.core.display.HTML object>"
            ]
          },
          "metadata": {
            "tags": []
          },
          "execution_count": 35
        }
      ]
    },
    {
      "cell_type": "markdown",
      "metadata": {
        "id": "Eh1RW8NGXpgB"
      },
      "source": [
        "##Modelagem com LSA"
      ]
    },
    {
      "cell_type": "markdown",
      "metadata": {
        "id": "Xe3i-qVT5KUa"
      },
      "source": [
        "Carregamento dos dados de avaliações já pré-tratadas anteriormente e transformação dos tokens das avaliações em texto corrido"
      ]
    },
    {
      "cell_type": "code",
      "metadata": {
        "id": "vtAASZJGXpv4"
      },
      "source": [
        "pd.set_option(\"display.max_colwidth\", 200)\n",
        "\n",
        "aval = base[\"review_text\"]\n",
        "\n",
        "frases = []\n",
        "for linha in aval:\n",
        "    frase = \"\"\n",
        "    for palavra in linha:\n",
        "        frase = frase + \" \" + palavra\n",
        "    frases.append(frase)"
      ],
      "execution_count": null,
      "outputs": []
    },
    {
      "cell_type": "markdown",
      "metadata": {
        "id": "kq6R_NeO-ezy"
      },
      "source": [
        "Criação da Matriz termo-documento com 500 termos"
      ]
    },
    {
      "cell_type": "code",
      "metadata": {
        "id": "Iq5Ta-nYYlRn"
      },
      "source": [
        "from sklearn.feature_extraction.text import TfidfVectorizer\n",
        "\n",
        "vectorizer = TfidfVectorizer(max_features= 500,\n",
        "                             max_df = 0.5, \n",
        "                             smooth_idf=True)\n",
        "\n",
        "X = vectorizer.fit_transform(frases)"
      ],
      "execution_count": null,
      "outputs": []
    },
    {
      "cell_type": "markdown",
      "metadata": {
        "id": "1dc1dj8p-2FH"
      },
      "source": [
        "Modelagem dos tópicos\r\n",
        "\r\n",
        "Decomposição da matriz"
      ]
    },
    {
      "cell_type": "code",
      "metadata": {
        "id": "H2uX1IUVY0K_",
        "colab": {
          "base_uri": "https://localhost:8080/"
        },
        "outputId": "f582f05e-3ed3-4191-814e-6f4ad905ef9b"
      },
      "source": [
        "from sklearn.decomposition import TruncatedSVD\n",
        "\n",
        "# SVD represent documents and terms in vectors \n",
        "svd_model = TruncatedSVD(n_components=4, algorithm='randomized', n_iter=100, random_state=122)\n",
        "\n",
        "svd_model.fit(X)"
      ],
      "execution_count": null,
      "outputs": [
        {
          "output_type": "execute_result",
          "data": {
            "text/plain": [
              "TruncatedSVD(algorithm='randomized', n_components=4, n_iter=100,\n",
              "             random_state=122, tol=0.0)"
            ]
          },
          "metadata": {
            "tags": []
          },
          "execution_count": 38
        }
      ]
    },
    {
      "cell_type": "markdown",
      "metadata": {
        "id": "C5Uc-j0a_gv5"
      },
      "source": [
        "Impressão dos 4 tópicos, com as 10 palavras mais importantes de cada um"
      ]
    },
    {
      "cell_type": "code",
      "metadata": {
        "id": "EadKckWCY8pD",
        "colab": {
          "base_uri": "https://localhost:8080/"
        },
        "outputId": "8d6f2f48-49eb-4d80-fe27-8692135eecc0"
      },
      "source": [
        "terms = vectorizer.get_feature_names()\n",
        "\n",
        "for i, comp in enumerate(svd_model.components_):\n",
        "    terms_comp = zip(terms, comp)\n",
        "    sorted_terms = sorted(terms_comp, key= lambda x:x[1], reverse=True)[:10]\n",
        "    print(\"Topic \"+str(i)+\": \")\n",
        "    for t in sorted_terms:\n",
        "        print(t[0])\n",
        "    print(\" \")"
      ],
      "execution_count": null,
      "outputs": [
        {
          "output_type": "stream",
          "text": [
            "Topic 0: \n",
            "produt\n",
            "entreg\n",
            "recom\n",
            "bom\n",
            "praz\n",
            "ótim\n",
            "cheg\n",
            "qual\n",
            "excel\n",
            "ant\n",
            " \n",
            "Topic 1: \n",
            "compr\n",
            "receb\n",
            "dia\n",
            "aind\n",
            "americ\n",
            "nao\n",
            "loj\n",
            "avali\n",
            "outr\n",
            "pra\n",
            " \n",
            "Topic 2: \n",
            "praz\n",
            "ant\n",
            "cheg\n",
            "entreg\n",
            "previst\n",
            "receb\n",
            "dia\n",
            "americ\n",
            "dentr\n",
            "parabém\n",
            " \n",
            "Topic 3: \n",
            "bom\n",
            "cheg\n",
            "ant\n",
            "praz\n",
            "atend\n",
            "bem\n",
            "gost\n",
            "expect\n",
            "necess\n",
            "previst\n",
            " \n"
          ],
          "name": "stdout"
        }
      ]
    },
    {
      "cell_type": "markdown",
      "metadata": {
        "id": "r0OS9t8zB3Ge"
      },
      "source": [
        "Nos dois métodos, nota-se que o tema mais recorrente nos tópicos refere-se a entrega dos produtos"
      ]
    },
    {
      "cell_type": "markdown",
      "metadata": {
        "id": "X34Gc1lvCCKc"
      },
      "source": [
        "Por questões computacionais, não foi possível gerar a visualização gráfica do método LSA"
      ]
    }
  ]
}